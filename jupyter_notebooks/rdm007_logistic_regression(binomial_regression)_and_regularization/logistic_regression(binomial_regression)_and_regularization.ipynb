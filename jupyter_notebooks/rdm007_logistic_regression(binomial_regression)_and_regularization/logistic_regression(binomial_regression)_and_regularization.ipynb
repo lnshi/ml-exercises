{
 "cells": [
  {
   "cell_type": "markdown",
   "metadata": {},
   "source": [
    "### Some clarifications\n",
    "\n",
    "- In statistics, the logistic model (or logit model) is a widely used statistical model that, in its basic form, uses a [logistic function](https://en.wikipedia.org/wiki/Logistic_function) to model a binary dependent variable; many more complex [extensions](https://en.wikipedia.org/wiki/Logistic_regression#Extensions) exist;\n",
    "\n",
    "\n",
    "- In regression analysis, logistic regression (or logit regression) is estimating the parameters of a logistic model; it is a form of binomial regression. Mathematically, a binary logistic model has a dependent variable with two possible values, such as pass/fail, win/lose, alive/dead or healthy/sick; these are represented by an indicator variable, where the two values are labeled \"0\" and \"1\";\n",
    "\n",
    "\n",
    "- In the logistic model, the [log-odds](https://en.wikipedia.org/wiki/Log-odds) (the logarithm of the odds) for the value labeled \"1\" is a linear combination of one or more independent variables (\"predictors\"); the independent variables can each be a binary variable (two classes, coded by an indicator variable) or a continuous variable (any real value). The corresponding probability of the value labeled \"1\" can vary between 0 (certainly the value \"0\") and 1 (certainly the value \"1\"), hence the labeling; the function that converts log-odds to probability is the logistic function, hence the name;\n",
    "\n",
    "\n",
    "- The [unit of measurement](https://en.wikipedia.org/wiki/Unit_of_measurement) for the log-odds scale is called a [logit](https://en.wikipedia.org/wiki/Logit), from **log**istic un**it**, hence the alternative names;\n",
    "\n",
    "\n",
    "- Analogous models with a different sigmoid function instead of the logistic function can also be used, such as the [probit model](https://en.wikipedia.org/wiki/Probit_model); the defining characteristic of the logistic model is that increasing one of the independent variables multiplicatively scales the odds of the given outcome at a constant rate, with each dependent variable having its own parameter; for a binary independent variable this generalizes the [odds ratio](https://en.wikipedia.org/wiki/Odds_ratio);\n",
    "\n",
    "\n",
    "- Logistic regression was developed by statistician David Cox in 1958. The binary logistic regression model has [extensions](https://en.wikipedia.org/wiki/Logistic_regression#Extensions) to more than two levels of the dependent variable: categorical outputs with more than two values are modelled by [multinomial logistic regression](https://en.wikipedia.org/wiki/Multinomial_logistic_regression), and if the multiple categories are [ordered](https://en.wikipedia.org/wiki/Level_of_measurement#Ordinal_type), by [ordinal logistic regression](https://en.wikipedia.org/wiki/Ordinal_logistic_regression), for example the proportional odds ordinal logistic model. The model itself simply models probability of output in terms of input, and does not perform [statistical classification](https://en.wikipedia.org/wiki/Statistical_classification) (it is not a classifier), though it can be used to make a classifier, for instance by choosing a cutoff value and classifying inputs with probability greater than the cutoff as one class, below the cutoff as the other; this is a common way to make a binary classifier. The coefficients are generally not computed by a closed-form expression, unlike [linear least squares](https://en.wikipedia.org/wiki/Linear_least_squares_(mathematics)); see [§ Model fitting](https://en.wikipedia.org/wiki/Logistic_regression#Model_fitting);\n",
    "\n",
    "✅ Find more details about 'log-it' and 'odds' from [this separate topic]()."
   ]
  },
  {
   "cell_type": "markdown",
   "metadata": {},
   "source": [
    "### Modeling\n",
    "\n",
    "Lets look back the [linear regression](https://lnshi.github.io/ml-exercises/jupyter_notebooks_in_html/rdm001_multivariable_linear_regression_gradient_descent/multivariable_linear_regression_gradient_descent.html#Define-the-latest-squares-cost-function) a bit, for linear regression its [link function](https://en.wikipedia.org/wiki/Generalized_linear_model#Link_function) is a multivariate linear equation:\n",
    "\n",
    "$$\n",
    "z_\\theta(x_1, x_2, \\dots, x_m) = \\theta_0 + \\theta_1x_1 + \\dots + \\theta_mx_m \\\n",
    "= \\theta \\\n",
    "\\begin{pmatrix}\n",
    "  1 & x_1 & x_2 & \\dots & x_m\n",
    "\\end{pmatrix} , \\, \\\n",
    "\\theta = \\\n",
    "\\begin{pmatrix}\n",
    "  \\theta_0 \\\\\n",
    "  \\theta_1 \\\\\n",
    "  \\vdots \\\\\n",
    "  \\theta_m\n",
    "\\end{pmatrix}\n",
    "$$\n",
    "\n",
    "for logistic regression it is a [generalized linear model (GLM)](https://en.wikipedia.org/wiki/Generalized_linear_model) also, and its [link function](https://en.wikipedia.org/wiki/Generalized_linear_model#Link_function) is [sigmoid function](https://en.wikipedia.org/wiki/Sigmoid_function): $y = \\frac{1}{1 + e^{-x}}$, then we can define the model for logistic regression:\n",
    "\n",
    "$$\n",
    "h_\\theta(x) = h_\\theta(x_1, x_2, \\dots, x_m) = \\frac{1}{1 + e^{-\\theta \\begin{pmatrix} 1 & x_1 & x_2 & \\dots & x_m \\end{pmatrix}}} \\\n",
    ", \\, \\\n",
    "\\theta = \\\n",
    "\\begin{pmatrix}\n",
    "  \\theta_0 \\\\\n",
    "  \\theta_1 \\\\\n",
    "  \\vdots \\\\\n",
    "  \\theta_m\n",
    "\\end{pmatrix}\n",
    "$$\n",
    "\n",
    "✅ Find more details about why the link function for linear regression is 'a multivariate linear equation', and for logistic is sigmoid function from [this separate topic]().\n",
    "\n",
    "#### Lets see what does the sigmoid function do\n",
    "\n",
    "- Lets draw the sigmoid function"
   ]
  },
  {
   "cell_type": "code",
   "execution_count": 404,
   "metadata": {},
   "outputs": [
    {
     "data": {
      "image/png": "[encoded data removed]",
      "text/plain": [
       "<Figure size 864x288 with 1 Axes>"
      ]
     },
     "metadata": {
      "needs_background": "light"
     },
     "output_type": "display_data"
    }
   ],
   "source": [
    "import numpy as np\n",
    "import matplotlib.pyplot as plt\n",
    "%matplotlib inline\n",
    "\n",
    "def f(x):\n",
    "    return 1 / (1 + np.power(np.e, -x))\n",
    "\n",
    "x = np.linspace(-11., 11., num=100, endpoint=True,)\n",
    "\n",
    "fig, ax = plt.subplots(figsize=(12, 4))\n",
    "ax.plot(x, f(x), 'r')\n",
    "ax.set_xticks(np.linspace(-10., 10., num=11, endpoint=True), minor=False)\n",
    "ax.set_xlabel('x')\n",
    "ax.set_ylabel('$f(x)$')\n",
    "\n",
    "vline = ax.axvline(x=0.)\n",
    "vline.set_linestyle('dotted')\n",
    "vline.set_linewidth(1.3)"
   ]
  },
  {
   "cell_type": "markdown",
   "metadata": {},
   "source": [
    "- Analysis\n",
    "\n",
    "  * The domain of the sigmoid function is: $(-\\infty, +\\infty)$, and the range is: $(0, 1)$;\n",
    "  * So the range of the above function: $h_\\theta(x)$ is also $(0, 1)$;\n",
    "  * Then the value of the above function: $h_\\theta(x)$ can represent some kind of probability, like:\n",
    "    - If $h_\\theta(x) < 0.5$ then the sample $x$ belongs to class A;\n",
    "    - If $h_\\theta(x) > 0.5$ then the sample $x$ belongs to calss B;\n",
    "    - So we can treat the sigmoid function as the [PDF (probability density function)](https://lnshi.github.io/ml-exercises/jupyter_notebooks_in_html/rdm005_PDF_PMF_CDF/PDF_PMF_CDF.html#PDF-(probability-density-function)) of the ALL sample dataset X;\n",
    "\n",
    "#### How to estimate the $\\theta$: [MLE (Maximum Likelihood Estimation)](https://lnshi.github.io/ml-exercises/jupyter_notebooks_in_html/rdm006_Bayes%E2%80%99%20Theorem_and_MLE_MAP/Bayes%E2%80%99%20Theorem_and_MLE_MAP.html)\n",
    "\n",
    "- We can see the value of the above function: $h_\\theta(x)$ represents the probability of that $h_\\theta(x) = 1$, so to input $x$, the probability of $h_\\theta(x) = 1$ or $h_\\theta(x) = 0$ is:\n",
    "  * $h_\\theta(x) = 1$ (belongs to class 1): $P(Y=1|x; \\theta) = h_\\theta(x)$;\n",
    "  * $h_\\theta(x) = 0$ (belongs to class 0): $P(Y=0|x; \\theta) = 1 - h_\\theta(x)$;\n",
    "  * That is: discrete variable $Y$ ($x$ belongs to class 0 or 1) subjects to [bernoulli distribution](https://en.wikipedia.org/wiki/Bernoulli_distribution), then we can get its [PMF (probability mass function)](https://lnshi.github.io/ml-exercises/jupyter_notebooks_in_html/rdm005_PDF_PMF_CDF/PDF_PMF_CDF.html#PMF-(probability-mass-function)):\n",
    "  \n",
    "$$\n",
    "P(Y|x; \\theta) = [h_\\theta(x)]^Y[1 - h_\\theta(x)]^{1 - Y}\n",
    "$$\n",
    "<br>\n",
    "\n",
    "***\n",
    "***\n",
    "**<center>Note</center>**\n",
    "\n",
    "Here I used capital $Y$, it corresponds to each $y^{(i)} (i = 1, 2, \\dots, n)$ in the sample dataset $X$, but due to the fact that sometimes for the given sample dataset $X$ the $y^{(i)} = h_\\theta(x_1^{(i)}, x_2^{(i)}, \\dots, x_m^{(i)}) \\not\\in \\{0, 1\\}$, then for binomial regression we need to normalize it to 0 or 1 according to some rules, so here I use capital $Y$ to represent the normalized $y^{(i)} (i = 1, 2, \\dots, n)$.\n",
    "\n",
    "In the latter part of this notebook, I will use back $y^{(i)} (i = 1, 2, \\dots, n)$ for standardization purpose, but you need to remember: the only allowed value for $y^{(i)} = h_\\theta(x_1^{(i)}, x_2^{(i)}, \\dots, x_m^{(i)})$ is 0 or 1, if it is NOT, then you need to do the nomalization first.\n",
    "\n",
    "***\n",
    "***\n",
    "\n",
    "- Since each sample point in $X$ is independent to each other, then we can tell $X$'s [Joint probability distribution](https://en.wikipedia.org/wiki/Joint_probability_distribution) as:\n",
    "\n",
    "$$\n",
    "\\begin{align*}\n",
    "  J(\\theta) &= \\prod_{i = 1}^{n}P(y^{(i)}|x^{(i)}; \\theta) \\\\\n",
    "  &= \\prod_{i = 1}^{n}[h_\\theta(x^{(i)})]^{y^{(i)}}[1 - h_\\theta(x^{(i)})^{1 - y^{(i)}}] \\\\\n",
    "  \\textbf{ log-it} \\\\\n",
    "  \\Rightarrow j(\\theta) &= log(J(\\theta)) = ln(J(\\theta)) = ln\\big(\\prod_{i = 1}^{n}[h_\\theta(x^{(i)})]^{y^{(i)}}[1 - h_\\theta(x^{(i)})^{1 - y^{(i)}}]\\big) \\\\\n",
    "  &= \\sum_{i = 1}^{n} ln[h_\\theta(x^{(i)})]^{y^{(i)}} + ln[1 - h_\\theta(x^{(i)})]^{1 - y^{(i)}} \\\\\n",
    "  &= \\sum_{i = 1}^{n} y^{(i)}ln[h_\\theta(x^{(i)})] + (1 - y^{(i)})ln[1 - h_\\theta(x^{(i)})]\n",
    "\\end{align*}\n",
    "$$\n",
    "<br>\n",
    "\n",
    "- [MLE (Maximum Likelihood Estimation)](https://lnshi.github.io/ml-exercises/jupyter_notebooks_in_html/rdm006_Bayes%E2%80%99%20Theorem_and_MLE_MAP/Bayes%E2%80%99%20Theorem_and_MLE_MAP.html) tries to find out the $\\theta$ to maximize the above $j(\\theta)$, we can use the gradient ASCENT algorithm, but if we do a small transformation then we can use the [gradient descent algorithm](https://lnshi.github.io/ml-exercises/jupyter_notebooks_in_html/rdm002_gradient_and_gradient_descent/gradient_and_gradient_descent.html):\n",
    "\n",
    "$$\n",
    "l(\\theta) = -\\frac{1}{n}j(\\theta)\n",
    "$$\n",
    "<br>\n",
    "\n",
    "- **Conclusion: so the task to estimate the $\\theta$ is: finding out the $\\theta$ to minimize the value of the above function $l(\\theta)$ with gradient descent algorithm!**"
   ]
  },
  {
   "cell_type": "markdown",
   "metadata": {},
   "source": [
    "### Run through with real example"
   ]
  },
  {
   "cell_type": "code",
   "execution_count": 405,
   "metadata": {},
   "outputs": [],
   "source": [
    "import os\n",
    "\n",
    "import numpy as np\n",
    "import pandas as pd\n",
    "import matplotlib.pyplot as plt\n",
    "\n",
    "# Sets the backend of matplotlib to the 'inline' backend.\n",
    "#\n",
    "# With this backend, the output of plotting commands is displayed inline within frontends like the Jupyter notebook,\n",
    "# directly below the code cell that produced it.\n",
    "# The resulting plots will then also be stored in the notebook document.\n",
    "#\n",
    "# More details: https://stackoverflow.com/questions/43027980/purpose-of-matplotlib-inline\n",
    "%matplotlib inline"
   ]
  },
  {
   "cell_type": "markdown",
   "metadata": {},
   "source": [
    "#### Read the data in, and then show the first several rows"
   ]
  },
  {
   "cell_type": "code",
   "execution_count": 406,
   "metadata": {},
   "outputs": [
    {
     "data": {
      "text/html": [
       "<div>\n",
       "<style scoped>\n",
       "    .dataframe tbody tr th:only-of-type {\n",
       "        vertical-align: middle;\n",
       "    }\n",
       "\n",
       "    .dataframe tbody tr th {\n",
       "        vertical-align: top;\n",
       "    }\n",
       "\n",
       "    .dataframe thead th {\n",
       "        text-align: right;\n",
       "    }\n",
       "</style>\n",
       "<table border=\"1\" class=\"dataframe\">\n",
       "  <thead>\n",
       "    <tr style=\"text-align: right;\">\n",
       "      <th></th>\n",
       "      <th>Exam 1</th>\n",
       "      <th>Exam 2</th>\n",
       "      <th>Admitted</th>\n",
       "    </tr>\n",
       "  </thead>\n",
       "  <tbody>\n",
       "    <tr>\n",
       "      <th>0</th>\n",
       "      <td>34.623660</td>\n",
       "      <td>78.024693</td>\n",
       "      <td>0</td>\n",
       "    </tr>\n",
       "    <tr>\n",
       "      <th>1</th>\n",
       "      <td>30.286711</td>\n",
       "      <td>43.894998</td>\n",
       "      <td>0</td>\n",
       "    </tr>\n",
       "    <tr>\n",
       "      <th>2</th>\n",
       "      <td>35.847409</td>\n",
       "      <td>72.902198</td>\n",
       "      <td>0</td>\n",
       "    </tr>\n",
       "    <tr>\n",
       "      <th>3</th>\n",
       "      <td>60.182599</td>\n",
       "      <td>86.308552</td>\n",
       "      <td>1</td>\n",
       "    </tr>\n",
       "    <tr>\n",
       "      <th>4</th>\n",
       "      <td>79.032736</td>\n",
       "      <td>75.344376</td>\n",
       "      <td>1</td>\n",
       "    </tr>\n",
       "  </tbody>\n",
       "</table>\n",
       "</div>"
      ],
      "text/plain": [
       "      Exam 1     Exam 2  Admitted\n",
       "0  34.623660  78.024693         0\n",
       "1  30.286711  43.894998         0\n",
       "2  35.847409  72.902198         0\n",
       "3  60.182599  86.308552         1\n",
       "4  79.032736  75.344376         1"
      ]
     },
     "execution_count": 406,
     "metadata": {},
     "output_type": "execute_result"
    }
   ],
   "source": [
    "path = os.getcwd() + '/data.csv'\n",
    "data = pd.read_csv(path, sep=',', header=0)\n",
    "data.head()"
   ]
  },
  {
   "cell_type": "markdown",
   "metadata": {},
   "source": [
    "As you can see, we have two independent continuous variables: `Exam 1` and `Exam 2`, and we want to predict the binomial result `Admitted` base on them: 0 → `unadmitted`, 1 → `admitted`.\n",
    "\n",
    "#### Lets visualise the sample dataset with scatter plot"
   ]
  },
  {
   "cell_type": "code",
   "execution_count": 407,
   "metadata": {},
   "outputs": [
    {
     "data": {
      "text/plain": [
       "Text(0,0.5,'Exam 2 Score')"
      ]
     },
     "execution_count": 407,
     "metadata": {},
     "output_type": "execute_result"
    },
    {
     "data": {
      "image/png": "[encoded data removed]",
      "text/plain": [
       "<Figure size 864x576 with 1 Axes>"
      ]
     },
     "metadata": {
      "needs_background": "light"
     },
     "output_type": "display_data"
    }
   ],
   "source": [
    "positive = data[data['Admitted'].isin([1])]\n",
    "negative = data[data['Admitted'].isin([0])]\n",
    "\n",
    "fig, ax = plt.subplots(figsize=(12,8))\n",
    "ax.scatter(positive['Exam 1'], positive['Exam 2'], s=50, c='b', marker='o', label='Admitted')\n",
    "ax.scatter(negative['Exam 1'], negative['Exam 2'], s=50, c='r', marker='x', label='Not Admitted')\n",
    "ax.legend()\n",
    "ax.set_xlabel('Exam 1 Score')\n",
    "ax.set_ylabel('Exam 2 Score')"
   ]
  },
  {
   "cell_type": "markdown",
   "metadata": {},
   "source": [
    "#### Data preprocessing and 'features data' / 'target variable' split"
   ]
  },
  {
   "cell_type": "code",
   "execution_count": 408,
   "metadata": {},
   "outputs": [],
   "source": [
    "# Add a ones column.\n",
    "data.insert(0, 'Ones', 1)"
   ]
  },
  {
   "cell_type": "code",
   "execution_count": 409,
   "metadata": {},
   "outputs": [],
   "source": [
    "# Set X (features data) and y (target variable).\n",
    "cols = data.shape[1]\n",
    "X = data.iloc[:, 0:cols-1].values\n",
    "y = data.iloc[:, cols-1:cols].values\n",
    "\n",
    "# Initalize the parameters array theta.\n",
    "theta = np.zeros(cols - 1)"
   ]
  },
  {
   "cell_type": "markdown",
   "metadata": {},
   "source": [
    "#### Always pay attention to the shape of the matrixes to get around of some unnecessary troubles."
   ]
  },
  {
   "cell_type": "code",
   "execution_count": 410,
   "metadata": {},
   "outputs": [
    {
     "data": {
      "text/plain": [
       "((100, 3), (100, 1), (3,))"
      ]
     },
     "execution_count": 410,
     "metadata": {},
     "output_type": "execute_result"
    }
   ],
   "source": [
    "X.shape, y.shape, theta.shape"
   ]
  },
  {
   "cell_type": "markdown",
   "metadata": {},
   "source": [
    "#### Define the sigmoid function"
   ]
  },
  {
   "cell_type": "code",
   "execution_count": 411,
   "metadata": {},
   "outputs": [],
   "source": [
    "def sigmoid(x):\n",
    "    return 1 / (1 + np.exp(-x))"
   ]
  },
  {
   "cell_type": "markdown",
   "metadata": {},
   "source": [
    "#### Define the cost function"
   ]
  },
  {
   "cell_type": "code",
   "execution_count": 412,
   "metadata": {},
   "outputs": [],
   "source": [
    "def cost(theta, X, y):\n",
    "    theta = np.reshape(theta, (1, len(theta)))\n",
    "    \n",
    "    # Numpy np.multiply vs *-Operator:\n",
    "    #   https://stackoverflow.com/questions/49493482/numpy-np-multiply-vs-operator\n",
    "    # There is no difference. However, the np.multiply function can take in additional,\n",
    "    #   optional arguments, making it more versatile.\n",
    "    part0 = np.multiply(y, np.log(sigmoid(X @ theta.T)))\n",
    "    part1 = np.multiply(1 - y, np.log(1 - sigmoid(X @ theta.T)))\n",
    "    return -np.sum(part0 + part1) / len(X)"
   ]
  },
  {
   "cell_type": "markdown",
   "metadata": {},
   "source": [
    "#### Lets check the initial cost"
   ]
  },
  {
   "cell_type": "code",
   "execution_count": 413,
   "metadata": {},
   "outputs": [
    {
     "data": {
      "text/plain": [
       "0.6931471805599453"
      ]
     },
     "execution_count": 413,
     "metadata": {},
     "output_type": "execute_result"
    }
   ],
   "source": [
    "cost(theta, X, y)"
   ]
  },
  {
   "cell_type": "markdown",
   "metadata": {},
   "source": [
    "#### Lets define the gradient\n",
    "\n",
    "- [What is gradient?](https://lnshi.github.io/ml-exercises/jupyter_notebooks_in_html/rdm002_gradient_and_gradient_descent/gradient_and_gradient_descent.html#Derivative-and-partial-derivative)\n",
    "\n",
    "- Partial derivative of $l(\\theta)$ to $\\theta_i$\n",
    "\n",
    "$$\n",
    "\\begin{align*}\n",
    "  \\because\\, j(\\theta) &= \\sum_{i = 1}^{n} y^{(i)}ln[h_\\theta(x^{(i)})] + (1 - y^{(i)})ln[1 - h_\\theta(x^{(i)})] \\\\\n",
    "  &= \\sum_{i = 1}^{n} y^{(i)}ln[h_\\theta(x^{(i)})] - y^{(i)}ln[1 - h_\\theta(x^{(i)})] + ln[1 - h_\\theta(x^{(i)})] \\\\\n",
    "  &= \\sum_{i = 1}^{n} y^{(i)}ln\\frac{h_\\theta(x^{(i)})}{1 - h_\\theta(x^{(i)})} + ln[1 - h_\\theta(x^{(i)})] \\\\\n",
    "  &= \\sum_{i = 1}^{n} y^{(i)}ln\\frac{\\frac{1}{1 + e^{-\\theta x^{(i)}}}}{1 - \\frac{1}{1 + e^{-\\theta x^{(i)}}}} + ln[1 - h_\\theta(x^{(i)})] \\\\\n",
    "  &= \\sum_{i = 1}^{n} y^{(i)}ln\\frac{1}{e^{-\\theta x^{(i)}}} + ln[1 - h_\\theta(x^{(i)})] \\\\\n",
    "  &= \\sum_{i = 1}^{n} -y^{(i)}lne^{-\\theta x^{(i)}} + ln[1 - h_\\theta(x^{(i)})] \\\\\n",
    "  &= \\sum_{i = 1}^{n} y^{(i)}\\theta x^{(i)} + ln[1 - h_\\theta(x^{(i)})] \\\\\n",
    "  \\\\\n",
    "  \\because\\, 1 - h_\\theta(x) &= \\frac{e^{-\\theta x}}{1 + e^{-\\theta x}} \\\\\n",
    "  &\\Rightarrow \\frac{\\partial}{\\partial \\theta} h_\\theta(x) \\\n",
    "    = -\\frac{-x e^{-\\theta x}}{(1 + e^{-\\theta x})^2} \\\n",
    "    = x \\frac{e^{-\\theta x}}{1 + e^{-\\theta x}} \\frac{1}{1 + e^{-\\theta x}} \\\n",
    "    = x [1 - h_\\theta(x)] h_\\theta(x) \\\\\n",
    "  &\\Rightarrow \\frac{\\partial}{\\partial \\theta}ln[1 - h_\\theta(x)] \\\n",
    "    = \\frac{1}{1 - h_\\theta(x)} (-\\frac{\\partial}{\\partial \\theta} h_\\theta(x)) \\\n",
    "    = -x h_\\theta(x) \\\\\n",
    "  \\\\\n",
    "  \\therefore\\, \\frac{\\partial}{\\partial \\theta_i}j(\\theta) \\\n",
    "  &= \\sum_{i = 1}^{n} [y^{(i)} x^{(i)} - x^{(i)} h_\\theta(x)] = \\sum_{i = 1}^{n} [y^{(i)} - h_\\theta(x)]x^{(i)} \\\\\n",
    "  \\\\\n",
    "  \\therefore\\, \\frac{\\partial}{\\partial \\theta_i} l(\\theta) \\\n",
    "  &= \\frac{1}{n} \\sum_{i = 1}^{n} [h_\\theta(x) - y^{(i)}]x^{(i)}\n",
    "\\end{align*}\n",
    "$$"
   ]
  },
  {
   "cell_type": "code",
   "execution_count": 422,
   "metadata": {},
   "outputs": [],
   "source": [
    "def gradient(theta, X, y):\n",
    "    theta = np.reshape(theta, (1, len(theta)))\n",
    "    \n",
    "    parameters = int(theta.shape[1])\n",
    "    grad = np.zeros(parameters)\n",
    "    error = sigmoid(X @ theta.T) - y\n",
    "    \n",
    "    for i in range(parameters):\n",
    "        term = np.multiply(error, X[:, i])\n",
    "        grad[i] = np.sum(term) / len(X)\n",
    "        \n",
    "    return grad"
   ]
  },
  {
   "cell_type": "markdown",
   "metadata": {},
   "source": [
    "#### Experience [scipy.optimize.fmin_tnc](https://docs.scipy.org/doc/scipy-0.14.0/reference/generated/scipy.optimize.fmin_tnc.html)\n",
    "\n",
    "As you noted: we didn't define the gradient descent algorithm but the [gradient]((https://lnshi.github.io/ml-exercises/jupyter_notebooks_in_html/rdm002_gradient_and_gradient_descent/gradient_and_gradient_descent.html#Derivative-and-partial-derivative)) only, lets try to use the [fminunc, Octave function](https://octave.org/doc/v4.0.1/Minimizers.html) to achieve the same effect like gradient descent."
   ]
  },
  {
   "cell_type": "code",
   "execution_count": 423,
   "metadata": {},
   "outputs": [
    {
     "data": {
      "text/plain": [
       "0.6321679802316327"
      ]
     },
     "execution_count": 423,
     "metadata": {},
     "output_type": "execute_result"
    }
   ],
   "source": [
    "import scipy.optimize as opt\n",
    "\n",
    "result = opt.fmin_tnc(func=cost, x0=theta, fprime=gradient, args=(X, y))\n",
    "cost(result[0], X, y)"
   ]
  },
  {
   "cell_type": "markdown",
   "metadata": {},
   "source": [
    "### References\n",
    "\n",
    "- [Logistic regression](https://en.wikipedia.org/wiki/Logistic_regression)\n",
    "\n",
    "- [Logistic Regression（逻辑回归）原理及公式推导](https://blog.csdn.net/programmer_wei/article/details/52072939)\n",
    "\n",
    "- [Binomial distribution](https://en.wikipedia.org/wiki/Binomial_distribution)\n",
    "\n",
    "- [Bernoulli distribution](https://en.wikipedia.org/wiki/Bernoulli_distribution)\n",
    "\n",
    "- [Joint probability distribution](https://en.wikipedia.org/wiki/Joint_probability_distribution)"
   ]
  }
 ],
 "metadata": {
  "kernelspec": {
   "display_name": "Python 3",
   "language": "python",
   "name": "python3"
  },
  "language_info": {
   "codemirror_mode": {
    "name": "ipython",
    "version": 3
   },
   "file_extension": ".py",
   "mimetype": "text/x-python",
   "name": "python",
   "nbconvert_exporter": "python",
   "pygments_lexer": "ipython3",
   "version": "3.7.0"
  }
 },
 "nbformat": 4,
 "nbformat_minor": 2
}
