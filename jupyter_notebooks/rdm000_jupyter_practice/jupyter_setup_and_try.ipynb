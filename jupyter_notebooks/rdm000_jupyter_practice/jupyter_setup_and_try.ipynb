{
 "cells": [
  {
   "cell_type": "markdown",
   "metadata": {},
   "source": [
    "### Set up your Mac environment by following the below instructions\n",
    "\n",
    "#### Prerequisites\n",
    "- Have [Homebrew](https://brew.sh/) installed.\n",
    "- Have [pyenv](https://github.com/pyenv/pyenv) installed by running `brew install pyenv`, and configure it properly.\n",
    "- Install the python versions you wanted by using `pyenv`.\n",
    "\n",
    "#### Pre-setup\n",
    "- Install anaconda: `brew cask install anaconda`\n",
    "- Check what necessary ops you need to do after the installation: `brew cask info anaconda`\n",
    "- Install jupyter: `conda install jupyter`\n",
    "- Create our first conda environment: `conda create --no-default-packages -n rdm000_jupyter_practice python=3.7.0`\n",
    "- Activate the environment we just created: `source activate rdm000_jupyter_practice`\n",
    "- Launch jupyter notebook in the above environment we created: `jupyter notebook`"
   ]
  },
  {
   "cell_type": "markdown",
   "metadata": {},
   "source": [
    "### Lets try jupyter notebook"
   ]
  },
  {
   "cell_type": "code",
   "execution_count": null,
   "metadata": {},
   "outputs": [],
   "source": [
    "# Check what environments we have.\n",
    "!conda info --envs"
   ]
  },
  {
   "cell_type": "code",
   "execution_count": null,
   "metadata": {},
   "outputs": [],
   "source": [
    "# List linked packages in a conda environment.\n",
    "!conda list"
   ]
  },
  {
   "cell_type": "code",
   "execution_count": null,
   "metadata": {},
   "outputs": [],
   "source": [
    "# To see which magic commands you have available in your interpreter.\n",
    "%lsmagic"
   ]
  },
  {
   "cell_type": "code",
   "execution_count": null,
   "metadata": {},
   "outputs": [],
   "source": [
    "%pwd"
   ]
  },
  {
   "cell_type": "code",
   "execution_count": null,
   "metadata": {},
   "outputs": [],
   "source": [
    "%%timeit\n",
    "square_evens = [n * n for n in range(100)]"
   ]
  },
  {
   "cell_type": "code",
   "execution_count": 12,
   "metadata": {},
   "outputs": [
    {
     "data": {
      "text/html": [
       "<div>\n",
       "<style scoped>\n",
       "    .dataframe tbody tr th:only-of-type {\n",
       "        vertical-align: middle;\n",
       "    }\n",
       "\n",
       "    .dataframe tbody tr th {\n",
       "        vertical-align: top;\n",
       "    }\n",
       "\n",
       "    .dataframe thead th {\n",
       "        text-align: right;\n",
       "    }\n",
       "</style>\n",
       "<table border=\"1\" class=\"dataframe\">\n",
       "  <thead>\n",
       "    <tr style=\"text-align: right;\">\n",
       "      <th></th>\n",
       "      <th>0</th>\n",
       "      <th>1</th>\n",
       "      <th>2</th>\n",
       "      <th>3</th>\n",
       "      <th>4</th>\n",
       "      <th>5</th>\n",
       "      <th>6</th>\n",
       "    </tr>\n",
       "  </thead>\n",
       "  <tbody>\n",
       "    <tr>\n",
       "      <th>0</th>\n",
       "      <td>0.309520</td>\n",
       "      <td>0.116095</td>\n",
       "      <td>-0.654422</td>\n",
       "      <td>0.676126</td>\n",
       "      <td>1.385970</td>\n",
       "      <td>1.710782</td>\n",
       "      <td>-1.217251</td>\n",
       "    </tr>\n",
       "    <tr>\n",
       "      <th>1</th>\n",
       "      <td>-0.230898</td>\n",
       "      <td>-2.125736</td>\n",
       "      <td>-0.154492</td>\n",
       "      <td>-0.799816</td>\n",
       "      <td>1.513765</td>\n",
       "      <td>0.322190</td>\n",
       "      <td>0.042963</td>\n",
       "    </tr>\n",
       "    <tr>\n",
       "      <th>2</th>\n",
       "      <td>-0.717006</td>\n",
       "      <td>-0.232938</td>\n",
       "      <td>0.647994</td>\n",
       "      <td>-0.289696</td>\n",
       "      <td>-0.835506</td>\n",
       "      <td>0.667125</td>\n",
       "      <td>-0.613770</td>\n",
       "    </tr>\n",
       "    <tr>\n",
       "      <th>3</th>\n",
       "      <td>-1.001014</td>\n",
       "      <td>1.636897</td>\n",
       "      <td>-2.028511</td>\n",
       "      <td>-0.014095</td>\n",
       "      <td>-1.007531</td>\n",
       "      <td>1.713799</td>\n",
       "      <td>-0.911406</td>\n",
       "    </tr>\n",
       "    <tr>\n",
       "      <th>4</th>\n",
       "      <td>-0.222374</td>\n",
       "      <td>-1.151629</td>\n",
       "      <td>1.108090</td>\n",
       "      <td>1.057971</td>\n",
       "      <td>0.515372</td>\n",
       "      <td>0.783789</td>\n",
       "      <td>0.973265</td>\n",
       "    </tr>\n",
       "    <tr>\n",
       "      <th>5</th>\n",
       "      <td>-1.040427</td>\n",
       "      <td>0.405118</td>\n",
       "      <td>0.978004</td>\n",
       "      <td>-0.049997</td>\n",
       "      <td>-0.565550</td>\n",
       "      <td>0.347831</td>\n",
       "      <td>0.362567</td>\n",
       "    </tr>\n",
       "    <tr>\n",
       "      <th>6</th>\n",
       "      <td>-0.002261</td>\n",
       "      <td>-0.196352</td>\n",
       "      <td>-1.639586</td>\n",
       "      <td>2.590095</td>\n",
       "      <td>-1.600220</td>\n",
       "      <td>0.353293</td>\n",
       "      <td>1.315650</td>\n",
       "    </tr>\n",
       "    <tr>\n",
       "      <th>7</th>\n",
       "      <td>-0.659465</td>\n",
       "      <td>-0.608808</td>\n",
       "      <td>-0.904166</td>\n",
       "      <td>-0.569181</td>\n",
       "      <td>-0.518427</td>\n",
       "      <td>-2.386334</td>\n",
       "      <td>0.468305</td>\n",
       "    </tr>\n",
       "    <tr>\n",
       "      <th>8</th>\n",
       "      <td>-0.864397</td>\n",
       "      <td>0.263991</td>\n",
       "      <td>1.418938</td>\n",
       "      <td>0.208923</td>\n",
       "      <td>-2.557665</td>\n",
       "      <td>-0.376186</td>\n",
       "      <td>1.152086</td>\n",
       "    </tr>\n",
       "    <tr>\n",
       "      <th>9</th>\n",
       "      <td>1.557903</td>\n",
       "      <td>2.886125</td>\n",
       "      <td>-0.316057</td>\n",
       "      <td>-0.178770</td>\n",
       "      <td>0.871296</td>\n",
       "      <td>1.468176</td>\n",
       "      <td>-0.343211</td>\n",
       "    </tr>\n",
       "  </tbody>\n",
       "</table>\n",
       "</div>"
      ],
      "text/plain": [
       "          0         1         2         3         4         5         6\n",
       "0  0.309520  0.116095 -0.654422  0.676126  1.385970  1.710782 -1.217251\n",
       "1 -0.230898 -2.125736 -0.154492 -0.799816  1.513765  0.322190  0.042963\n",
       "2 -0.717006 -0.232938  0.647994 -0.289696 -0.835506  0.667125 -0.613770\n",
       "3 -1.001014  1.636897 -2.028511 -0.014095 -1.007531  1.713799 -0.911406\n",
       "4 -0.222374 -1.151629  1.108090  1.057971  0.515372  0.783789  0.973265\n",
       "5 -1.040427  0.405118  0.978004 -0.049997 -0.565550  0.347831  0.362567\n",
       "6 -0.002261 -0.196352 -1.639586  2.590095 -1.600220  0.353293  1.315650\n",
       "7 -0.659465 -0.608808 -0.904166 -0.569181 -0.518427 -2.386334  0.468305\n",
       "8 -0.864397  0.263991  1.418938  0.208923 -2.557665 -0.376186  1.152086\n",
       "9  1.557903  2.886125 -0.316057 -0.178770  0.871296  1.468176 -0.343211"
      ]
     },
     "execution_count": 12,
     "metadata": {},
     "output_type": "execute_result"
    }
   ],
   "source": [
    "# Show some data frames.\n",
    "\n",
    "import pandas as pd\n",
    "import numpy as np\n",
    "\n",
    "df = pd.DataFrame(np.random.randn(10, 7))\n",
    "df"
   ]
  },
  {
   "cell_type": "code",
   "execution_count": 13,
   "metadata": {},
   "outputs": [
    {
     "data": {
      "image/png": "[encoded data removed]",
      "text/plain": [
       "<Figure size 432x288 with 1 Axes>"
      ]
     },
     "metadata": {
      "needs_background": "light"
     },
     "output_type": "display_data"
    }
   ],
   "source": [
    "# Simple demo of a scatter plot.\n",
    "\n",
    "import numpy as np\n",
    "import matplotlib.pyplot as plt\n",
    "\n",
    "N = 50\n",
    "x = np.random.rand(N)\n",
    "y = np.random.rand(N)\n",
    "colors = np.random.rand(N)\n",
    "area = np.pi * (17 * np.random.rand(N)) ** 2\n",
    "\n",
    "plt.scatter(x, y, s=area, c=colors, alpha=0.7)\n",
    "plt.show()"
   ]
  },
  {
   "cell_type": "code",
   "execution_count": 14,
   "metadata": {},
   "outputs": [
    {
     "data": {
      "image/jpeg": "[encoded data removed]",
      "text/html": [
       "\n",
       "        <iframe\n",
       "            width=\"400\"\n",
       "            height=\"300\"\n",
       "            src=\"https://www.youtube.com/embed/Lykgg5phVJE\"\n",
       "            frameborder=\"0\"\n",
       "            allowfullscreen\n",
       "        ></iframe>\n",
       "        "
      ],
      "text/plain": [
       "<IPython.lib.display.YouTubeVideo at 0x117ca6390>"
      ]
     },
     "execution_count": 14,
     "metadata": {},
     "output_type": "execute_result"
    }
   ],
   "source": [
    "# Load a YouTube video.\n",
    "from IPython.display import YouTubeVideo\n",
    "YouTubeVideo('Lykgg5phVJE')"
   ]
  },
  {
   "cell_type": "markdown",
   "metadata": {},
   "source": [
    "### Conda environment management"
   ]
  },
  {
   "cell_type": "code",
   "execution_count": null,
   "metadata": {},
   "outputs": [],
   "source": [
    "# Export conda 'environment.yml'.\n",
    "#\n",
    "# So in future you can create the exactly same environment with `conda env create -f environment.yml`.\n",
    "#\n",
    "# Or if you want to specify a different install path than the default one\n",
    "# of your system(not related to 'prefix' in the environment.yml), just use the '-p' flag followed by the required\n",
    "# path: `onda env create -f environment.yml -p /home/user/anaconda3/envs/env_name`.\n",
    "!conda env export | grep -v \"^prefix: \" > environment.yml\n",
    "\n",
    "# Cat to see what is in the 'environment.yml'.\n",
    "%cat environment.yml"
   ]
  },
  {
   "cell_type": "markdown",
   "metadata": {},
   "source": [
    "### Jupyter kernels"
   ]
  },
  {
   "cell_type": "code",
   "execution_count": null,
   "metadata": {},
   "outputs": [],
   "source": [
    "# List jupyter kernels.\n",
    "!jupyter kernelspec list"
   ]
  },
  {
   "cell_type": "code",
   "execution_count": null,
   "metadata": {},
   "outputs": [],
   "source": [
    "# Install jupyter Golang kernel, more details refer here: https://github.com/gopherdata/gophernotes#mac\n",
    "!brew install zmq\n",
    "!go get -u github.com/gopherdata/gophernotes\n",
    "!mkdir -p ~/Library/Jupyter/kernels/gophernotes\n",
    "!cp $GOPATH/src/github.com/gopherdata/gophernotes/kernel/* ~/Library/Jupyter/kernels/gophernotes\n",
    "!jupyter kernelspec list"
   ]
  },
  {
   "cell_type": "markdown",
   "metadata": {},
   "source": [
    "### Epilogue\n",
    "- Although we have both 'Python 3' and `Go` kernels, but jupyter hasn't support to have multiple languages in one notebook yet, more details can follow this github issue: [Allowing multiple languages in one notebook #2815](https://github.com/jupyterlab/jupyterlab/issues/2815).\n",
    "\n",
    "#### FYI: my `.bash_profile`\n",
    "\n",
    "```bash\n",
    "export PS1=\"[\\u@\\H \\w]\\$ \"\n",
    "\n",
    "alias ll='ls -alF'\n",
    "alias subl='/Applications/Sublime\\ Text.app/Contents/SharedSupport/bin/subl'\n",
    "\n",
    "#\n",
    "## Prefix 'PATH' in idempotent manner.\n",
    "#\n",
    "function prefix_path() {\n",
    "  for var in \"$@\"\n",
    "  do\n",
    "    if [[ \":$PATH:\" != *\":$var:\"* ]]; then\n",
    "      export PATH=$var:$PATH\n",
    "    fi\n",
    "  done\n",
    "}\n",
    "\n",
    "#\n",
    "## Setting GOROOT should NOT be necessary for newer version Go,\n",
    "## and you can always get $GOROOT by `go env GOROOT`.\n",
    "#\n",
    "export GOPATH=\"$HOME/go_projects\"\n",
    "prefix_path \"$GOPATH/bin\"\n",
    "\n",
    "#\n",
    "## For function `nvm`.\n",
    "#\n",
    "export NVM_DIR=\"$HOME/.nvm\"\n",
    ". \"$(brew --prefix nvm)/nvm.sh\"\n",
    "\n",
    "#\n",
    "## For command `envsubst`.\n",
    "#\n",
    "prefix_path \"$(brew --prefix gettext)/bin\"\n",
    "\n",
    "#\n",
    "## For anaconda.\n",
    "#\n",
    "prefix_path '/usr/local/anaconda3/bin'\n",
    "\n",
    "#\n",
    "## For 'pyenv'.\n",
    "#\n",
    "if which pyenv > /dev/null && [[ \":$PATH:\" != *'/.pyenv/'* ]]; then\n",
    " eval \"$(pyenv init -)\"\n",
    "fi\n",
    "\n",
    "#\n",
    "## For 'jenv'.\n",
    "#\n",
    "if which jenv > /dev/null && [[ \":$PATH:\" != *'/.jenv/'* ]]; then\n",
    " eval \"$(jenv init -)\"\n",
    "fi\n",
    "\n",
    "if [ -f /usr/local/etc/bash_completion.d ]; then\n",
    "  . /usr/local/etc/bash_completion.d\n",
    "fi\n",
    "```"
   ]
  }
 ],
 "metadata": {
  "kernelspec": {
   "display_name": "Python 3",
   "language": "python",
   "name": "python3"
  },
  "language_info": {
   "codemirror_mode": {
    "name": "ipython",
    "version": 3
   },
   "file_extension": ".py",
   "mimetype": "text/x-python",
   "name": "python",
   "nbconvert_exporter": "python",
   "pygments_lexer": "ipython3",
   "version": "3.7.0"
  }
 },
 "nbformat": 4,
 "nbformat_minor": 2
}
