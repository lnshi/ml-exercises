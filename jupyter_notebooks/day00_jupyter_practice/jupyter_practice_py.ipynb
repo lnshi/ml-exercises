{
 "cells": [
  {
   "cell_type": "markdown",
   "metadata": {},
   "source": [
    "### Set up your Mac environment by following the below instructions\n",
    "#### Prerequisites\n",
    "- Have [Homebrew](https://brew.sh/) installed.\n",
    "- Have [pyenv](https://github.com/pyenv/pyenv) installed by running `brew install pyenv`, and configure properly.\n",
    "- Install the python versions you wanted by using `pyenv`."
   ]
  },
  {
   "cell_type": "code",
   "execution_count": null,
   "metadata": {},
   "outputs": [],
   "source": [
    "# Install anaconda.\n",
    "!brew cask install anaconda"
   ]
  },
  {
   "cell_type": "code",
   "execution_count": null,
   "metadata": {},
   "outputs": [],
   "source": [
    "# Check what necessary ops you need to do after the installation.\n",
    "!brew cask info anaconda"
   ]
  },
  {
   "cell_type": "code",
   "execution_count": null,
   "metadata": {},
   "outputs": [],
   "source": [
    "# Install jupyter.\n",
    "!conda install jupyter"
   ]
  },
  {
   "cell_type": "code",
   "execution_count": null,
   "metadata": {},
   "outputs": [],
   "source": [
    "# Create our first conda environment.\n",
    "!conda create --no-default-packages -n day00_jupyter_practice python=3.5.4"
   ]
  },
  {
   "cell_type": "code",
   "execution_count": null,
   "metadata": {},
   "outputs": [],
   "source": [
    "# Check what conda environments you have.\n",
    "!conda info --envs"
   ]
  },
  {
   "cell_type": "code",
   "execution_count": null,
   "metadata": {},
   "outputs": [],
   "source": [
    "# List linked packages in a conda environment.\n",
    "!conda list"
   ]
  },
  {
   "cell_type": "code",
   "execution_count": null,
   "metadata": {},
   "outputs": [],
   "source": [
    "# To see which magic commands you have available in your interpreter.\n",
    "%lsmagic"
   ]
  },
  {
   "cell_type": "code",
   "execution_count": null,
   "metadata": {},
   "outputs": [],
   "source": [
    "%pwd"
   ]
  },
  {
   "cell_type": "code",
   "execution_count": null,
   "metadata": {},
   "outputs": [],
   "source": [
    "%%timeit\n",
    "square_evens = [n * n for n in range(100)]"
   ]
  },
  {
   "cell_type": "code",
   "execution_count": 5,
   "metadata": {},
   "outputs": [
    {
     "data": {
      "text/html": [
       "<div>\n",
       "<style scoped>\n",
       "    .dataframe tbody tr th:only-of-type {\n",
       "        vertical-align: middle;\n",
       "    }\n",
       "\n",
       "    .dataframe tbody tr th {\n",
       "        vertical-align: top;\n",
       "    }\n",
       "\n",
       "    .dataframe thead th {\n",
       "        text-align: right;\n",
       "    }\n",
       "</style>\n",
       "<table border=\"1\" class=\"dataframe\">\n",
       "  <thead>\n",
       "    <tr style=\"text-align: right;\">\n",
       "      <th></th>\n",
       "      <th>0</th>\n",
       "      <th>1</th>\n",
       "      <th>2</th>\n",
       "      <th>3</th>\n",
       "      <th>4</th>\n",
       "      <th>5</th>\n",
       "      <th>6</th>\n",
       "    </tr>\n",
       "  </thead>\n",
       "  <tbody>\n",
       "    <tr>\n",
       "      <th>0</th>\n",
       "      <td>0.271766</td>\n",
       "      <td>-0.037467</td>\n",
       "      <td>-0.889367</td>\n",
       "      <td>-0.284045</td>\n",
       "      <td>-1.232180</td>\n",
       "      <td>0.231930</td>\n",
       "      <td>-1.243991</td>\n",
       "    </tr>\n",
       "    <tr>\n",
       "      <th>1</th>\n",
       "      <td>-0.501164</td>\n",
       "      <td>0.746145</td>\n",
       "      <td>0.215721</td>\n",
       "      <td>0.593978</td>\n",
       "      <td>-0.528266</td>\n",
       "      <td>-2.125961</td>\n",
       "      <td>0.628896</td>\n",
       "    </tr>\n",
       "    <tr>\n",
       "      <th>2</th>\n",
       "      <td>-2.328197</td>\n",
       "      <td>-0.512504</td>\n",
       "      <td>0.495394</td>\n",
       "      <td>0.004569</td>\n",
       "      <td>0.077279</td>\n",
       "      <td>-0.483586</td>\n",
       "      <td>-0.478227</td>\n",
       "    </tr>\n",
       "    <tr>\n",
       "      <th>3</th>\n",
       "      <td>0.757728</td>\n",
       "      <td>2.308366</td>\n",
       "      <td>-1.974855</td>\n",
       "      <td>0.933532</td>\n",
       "      <td>0.524761</td>\n",
       "      <td>1.251927</td>\n",
       "      <td>0.466587</td>\n",
       "    </tr>\n",
       "    <tr>\n",
       "      <th>4</th>\n",
       "      <td>0.899994</td>\n",
       "      <td>-0.897160</td>\n",
       "      <td>-0.107529</td>\n",
       "      <td>-0.050574</td>\n",
       "      <td>0.580098</td>\n",
       "      <td>0.986586</td>\n",
       "      <td>1.832367</td>\n",
       "    </tr>\n",
       "    <tr>\n",
       "      <th>5</th>\n",
       "      <td>0.030985</td>\n",
       "      <td>-0.316532</td>\n",
       "      <td>0.614447</td>\n",
       "      <td>1.077202</td>\n",
       "      <td>1.052287</td>\n",
       "      <td>-1.350174</td>\n",
       "      <td>1.510086</td>\n",
       "    </tr>\n",
       "    <tr>\n",
       "      <th>6</th>\n",
       "      <td>0.690747</td>\n",
       "      <td>-0.058552</td>\n",
       "      <td>1.098091</td>\n",
       "      <td>-0.652835</td>\n",
       "      <td>-0.719366</td>\n",
       "      <td>-0.686164</td>\n",
       "      <td>-0.113717</td>\n",
       "    </tr>\n",
       "    <tr>\n",
       "      <th>7</th>\n",
       "      <td>-0.542850</td>\n",
       "      <td>-2.154154</td>\n",
       "      <td>-0.812521</td>\n",
       "      <td>-0.817369</td>\n",
       "      <td>-0.982787</td>\n",
       "      <td>1.209457</td>\n",
       "      <td>0.419427</td>\n",
       "    </tr>\n",
       "    <tr>\n",
       "      <th>8</th>\n",
       "      <td>-0.496061</td>\n",
       "      <td>-0.997271</td>\n",
       "      <td>-0.263044</td>\n",
       "      <td>-0.916578</td>\n",
       "      <td>1.041765</td>\n",
       "      <td>0.492012</td>\n",
       "      <td>-2.628045</td>\n",
       "    </tr>\n",
       "    <tr>\n",
       "      <th>9</th>\n",
       "      <td>-1.486843</td>\n",
       "      <td>0.116292</td>\n",
       "      <td>-1.634187</td>\n",
       "      <td>-0.397939</td>\n",
       "      <td>-0.845161</td>\n",
       "      <td>0.733410</td>\n",
       "      <td>0.989960</td>\n",
       "    </tr>\n",
       "  </tbody>\n",
       "</table>\n",
       "</div>"
      ],
      "text/plain": [
       "          0         1         2         3         4         5         6\n",
       "0  0.271766 -0.037467 -0.889367 -0.284045 -1.232180  0.231930 -1.243991\n",
       "1 -0.501164  0.746145  0.215721  0.593978 -0.528266 -2.125961  0.628896\n",
       "2 -2.328197 -0.512504  0.495394  0.004569  0.077279 -0.483586 -0.478227\n",
       "3  0.757728  2.308366 -1.974855  0.933532  0.524761  1.251927  0.466587\n",
       "4  0.899994 -0.897160 -0.107529 -0.050574  0.580098  0.986586  1.832367\n",
       "5  0.030985 -0.316532  0.614447  1.077202  1.052287 -1.350174  1.510086\n",
       "6  0.690747 -0.058552  1.098091 -0.652835 -0.719366 -0.686164 -0.113717\n",
       "7 -0.542850 -2.154154 -0.812521 -0.817369 -0.982787  1.209457  0.419427\n",
       "8 -0.496061 -0.997271 -0.263044 -0.916578  1.041765  0.492012 -2.628045\n",
       "9 -1.486843  0.116292 -1.634187 -0.397939 -0.845161  0.733410  0.989960"
      ]
     },
     "execution_count": 5,
     "metadata": {},
     "output_type": "execute_result"
    }
   ],
   "source": [
    "# Show some data frames.\n",
    "\n",
    "import pandas as pd\n",
    "import numpy as np\n",
    "\n",
    "df = pd.DataFrame(np.random.randn(10, 7))\n",
    "df"
   ]
  },
  {
   "cell_type": "code",
   "execution_count": 7,
   "metadata": {},
   "outputs": [
    {
     "data": {
      "image/png": "[encoded data removed]",
      "text/plain": [
       "<Figure size 432x288 with 1 Axes>"
      ]
     },
     "metadata": {
      "needs_background": "light"
     },
     "output_type": "display_data"
    }
   ],
   "source": [
    "# Simple demo of a scatter plot.\n",
    "\n",
    "import numpy as np\n",
    "import matplotlib.pyplot as plt\n",
    "\n",
    "N = 50\n",
    "x = np.random.rand(N)\n",
    "y = np.random.rand(N)\n",
    "colors = np.random.rand(N)\n",
    "area = np.pi * (17 * np.random.rand(N)) ** 2\n",
    "\n",
    "plt.scatter(x, y, s=area, c=colors, alpha=0.7)\n",
    "plt.show()"
   ]
  },
  {
   "cell_type": "code",
   "execution_count": null,
   "metadata": {},
   "outputs": [],
   "source": [
    "# Load a YouTube video.\n",
    "from IPython.display import YouTubeVideo\n",
    "YouTubeVideo('Lykgg5phVJE')"
   ]
  },
  {
   "cell_type": "code",
   "execution_count": null,
   "metadata": {},
   "outputs": [],
   "source": [
    "# Export conda 'environment.yml'.\n",
    "#\n",
    "# So in future you can create the exactly same environment with `conda env create -f environment.yml`.\n",
    "#\n",
    "# Or if you want to specify a different install path than the default one\n",
    "# of your system(not related to 'prefix' in the environment.yml), just use the '-p' flag followed by the required\n",
    "# path: `onda env create -f environment.yml -p /home/user/anaconda3/envs/env_name`.\n",
    "!conda env export | grep -v \"^prefix: \" > environment.yml\n",
    "\n",
    "# Cat to see what is in the 'environment.yml'.\n",
    "%cat environment.yml"
   ]
  },
  {
   "cell_type": "code",
   "execution_count": null,
   "metadata": {},
   "outputs": [],
   "source": [
    "# List jupyter kernels.\n",
    "!jupyter kernelspec list"
   ]
  },
  {
   "cell_type": "code",
   "execution_count": null,
   "metadata": {},
   "outputs": [],
   "source": [
    "# Install jupyter Golang kernel, more details refer here: https://github.com/gopherdata/gophernotes#mac\n",
    "!brew install zmq\n",
    "!go get -u github.com/gopherdata/gophernotes\n",
    "!mkdir -p ~/Library/Jupyter/kernels/gophernotes\n",
    "!cp $GOPATH/src/github.com/gopherdata/gophernotes/kernel/* ~/Library/Jupyter/kernels/gophernotes\n",
    "!jupyter kernelspec list"
   ]
  },
  {
   "cell_type": "markdown",
   "metadata": {},
   "source": [
    "### Epilogue\n",
    "- Although we have both 'Python 3' and `Go` kernels, but jupyter hasn't support to have multiple languages in one notebook yet, more details can follow this github issue: [Allowing multiple languages in one notebook #2815](https://github.com/jupyterlab/jupyterlab/issues/2815).\n",
    "\n",
    "#### FYI: my `.bash_profile`\n",
    "\n",
    "```bash\n",
    "export PS1=\"[\\u@\\H \\w]\\$ \"\n",
    "\n",
    "alias ll='ls -alF'\n",
    "alias subl='/Applications/Sublime\\ Text.app/Contents/SharedSupport/bin/subl'\n",
    "\n",
    "#\n",
    "## Prefix 'PATH' in idempotent manner.\n",
    "#\n",
    "function prefix_path() {\n",
    "  for var in \"$@\"\n",
    "  do\n",
    "    if [[ \":$PATH:\" != *\":$var:\"* ]]; then\n",
    "      export PATH=$var:$PATH\n",
    "    fi\n",
    "  done\n",
    "}\n",
    "\n",
    "#\n",
    "## Setting GOROOT should NOT be necessary for newer version Go,\n",
    "## and you can always get $GOROOT by `go env GOROOT`.\n",
    "#\n",
    "export GOPATH=\"$HOME/go_projects\"\n",
    "prefix_path \"$GOPATH/bin\"\n",
    "\n",
    "#\n",
    "## For function `nvm`.\n",
    "#\n",
    "export NVM_DIR=\"$HOME/.nvm\"\n",
    ". \"$(brew --prefix nvm)/nvm.sh\"\n",
    "\n",
    "#\n",
    "## For command `envsubst`.\n",
    "#\n",
    "prefix_path \"$(brew --prefix gettext)/bin\"\n",
    "\n",
    "#\n",
    "## For anaconda.\n",
    "#\n",
    "prefix_path '/usr/local/anaconda3/bin'\n",
    "\n",
    "#\n",
    "## For 'pyenv'.\n",
    "#\n",
    "if which pyenv > /dev/null && [[ \":$PATH:\" != *'/.pyenv/'* ]]; then\n",
    " eval \"$(pyenv init -)\"\n",
    "fi\n",
    "\n",
    "#\n",
    "## For 'jenv'.\n",
    "#\n",
    "if which jenv > /dev/null && [[ \":$PATH:\" != *'/.jenv/'* ]]; then\n",
    " eval \"$(jenv init -)\"\n",
    "fi\n",
    "\n",
    "if [ -f /usr/local/etc/bash_completion.d ]; then\n",
    "  . /usr/local/etc/bash_completion.d\n",
    "fi\n",
    "```"
   ]
  }
 ],
 "metadata": {
  "kernelspec": {
   "display_name": "Python 3",
   "language": "python",
   "name": "python3"
  },
  "language_info": {
   "codemirror_mode": {
    "name": "ipython",
    "version": 3
   },
   "file_extension": ".py",
   "mimetype": "text/x-python",
   "name": "python",
   "nbconvert_exporter": "python",
   "pygments_lexer": "ipython3",
   "version": "3.7.0"
  }
 },
 "nbformat": 4,
 "nbformat_minor": 2
}
