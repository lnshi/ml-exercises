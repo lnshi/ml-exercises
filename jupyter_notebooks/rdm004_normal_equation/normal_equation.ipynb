{
 "cells": [
  {
   "cell_type": "markdown",
   "metadata": {},
   "source": [
    "### Vector operations\n",
    "\n",
    "#### Addition and subtraction\n",
    "- Let $\\vec{u} = (u_1, u_2)$ and $\\vec{v} = (v_1, v_2)$, then $\\vec{u} + \\vec{v} = (u_1 + v_1,\\, u_2 + v_2)$, and $\\vec{u} - \\vec{v} = (u_1 - v_1,\\, u_2 - v_2)$\n",
    "\n",
    "<img src=\"./addition_subtraction.gif\">\n",
    "\n",
    "#### Dot product\n",
    "1. The dot product gives a number as an answer (a 'scalar', not a vector).\n",
    "2. The dot product is written using a central dot:\n",
    "$$\n",
    "\\vec{a} \\bullet \\vec{b}\n",
    "$$\n",
    "3. We can calculate the dot product of two vectors in this way:\n",
    "$$\n",
    "\\vec{a} \\bullet \\vec{b} = |\\vec{a}| |\\vec{b}| cos(\\theta)\n",
    "$$\n",
    "\n",
    "<img src=\"./dot_product.gif\">\n",
    "\n",
    "$$\n",
    "|\\vec{a}| \\text{ is the magnitude (length) of vector a} \\\\\n",
    "|\\vec{b}| \\text{ is the magnitude (length) of vector b} \\\\\n",
    "\\theta \\text{ is the angle between a and b}\n",
    "$$\n",
    "\n",
    "#### Cross product\n",
    "1. The cross product $\\vec{a} \\times \\vec{b}$ of two vectors is another vector that is at right angles to both:\n",
    "<img src=\"cross_product_0.gif\">\n",
    "<center>And it all happens in 3 dimensions!</center>\n",
    "    \n",
    "2. We can calculate the cross product in this way:\n",
    "$$\n",
    "\\vec{a} \\times \\vec{b} = |\\vec{a}| |\\vec{b}| sin(\\theta) \\vec{n}\n",
    "$$\n",
    "<img src=\"cross_product_1.gif\">\n",
    "$$\n",
    "|\\vec{a}| \\text{ is the magnitude (length) of vector a} \\\\\n",
    "|\\vec{b}| \\text{ is the magnitude (length) of vector b} \\\\\n",
    "\\theta \\text{ is the angle between vector a and vector b} \\\\\n",
    "\\vec{n} \\text{ is the unit vector at right angles to both vector a and vector b}\n",
    "$$\n",
    "\n",
    "3. Or we can calculate the cross product in another way:\n",
    "$$\n",
    "\\vec{a} = (a_x, a_y, a_z) \\\\\n",
    "\\vec{b} = (b_x, b_y, b_z)\n",
    "$$\n",
    "<img src=\"cross_product_2.jpeg\" width=\"37%\" height=\"auto\">\n",
    "$$\n",
    "\\vec{c} = \\vec{a} \\times \\vec{b} = (a_yb_z - a_zb_y,\\, a_zb_x - a_xb_z,\\, a_xb_y - a_yb_x)\n",
    "$$\n",
    "\n",
    "4. Which direction?\n",
    "  - The cross product could point in the completely opposite direction and still be at right angles to the two other vectors, so we have the **\"Right Hand Rule\"**:\n",
    "  \n",
    "    - With your right-hand, point your index finger along vector a, and point your middle finger along vector b: the cross product goes in the direction of your thumb.\n",
    "    - <img src=\"right_hand_rule.jpg\">"
   ]
  }
 ],
 "metadata": {
  "kernelspec": {
   "display_name": "Python 3",
   "language": "python",
   "name": "python3"
  },
  "language_info": {
   "codemirror_mode": {
    "name": "ipython",
    "version": 3
   },
   "file_extension": ".py",
   "mimetype": "text/x-python",
   "name": "python",
   "nbconvert_exporter": "python",
   "pygments_lexer": "ipython3",
   "version": "3.7.0"
  }
 },
 "nbformat": 4,
 "nbformat_minor": 2
}
