{
 "cells": [
  {
   "cell_type": "markdown",
   "metadata": {},
   "source": [
    "Lets assume we have one unary random variable **X**.\n",
    "\n",
    "### PDF (probability density function)\n",
    "\n",
    "- If **X** is a continuous random variable, then we can define its PDF: $f_X(x)$\n",
    "\n",
    "- The probability of **X** falling within a particular range of values can be given by the integral of __X__’s PDF over that range, that is:\n",
    "$$\n",
    "P(a \\leq X \\leq b) = \\int_{a}^{b}f_X(x)d_x\n",
    "$$\n",
    "\n",
    "### PMF (probability mass function)\n",
    "\n",
    "- If **X** is a discrete random variable, then we can define its PMF: $p_X(x)$\n",
    "\n",
    "- PMF is a function that gives the probability that a [discrete random variable](https://en.wikipedia.org/wiki/Random_variable#Discrete_random_variable) is exactly equal to some value. The probability mass function is often the primary means of defining a [discrete probability distribution](https://en.wikipedia.org/wiki/Probability_distribution#Discrete_probability_distribution), and such functions exist for either [scalar](https://en.wikipedia.org/wiki/Variable_(computer_science)) or [multivariate random variables](https://en.wikipedia.org/wiki/Multivariate_random_variable) whose domain is discrete.\n",
    "\n",
    "### CDF (cumulative distribution function)\n",
    "\n",
    "- No matter **X** is continuous type or discrete type, we can define its CDF: $F_X(x)$\n",
    "\n",
    "- Definition of CDF:\n",
    "\n",
    "    1. To continuous type: $F_X(x) = P(X \\leq x) = \\int_{-\\infty}^{x}f_X(t)d_t$\n",
    "    2. To discrete type: $F_X(x) = P(X \\leq x)$"
   ]
  },
  {
   "cell_type": "markdown",
   "metadata": {},
   "source": [
    "### Credit to [在连续随机变量中，概率密度函数（PDF）、概率分布函数、累积分布函数（CDF）之间的关系是什么？](https://www.zhihu.com/question/36853661/answer/69775009)"
   ]
  },
  {
   "cell_type": "markdown",
   "metadata": {},
   "source": [
    "### References\n",
    "\n",
    "- [Probability density function](https://en.wikipedia.org/wiki/Probability_density_function)\n",
    "\n",
    "- [Probability mass function](https://en.wikipedia.org/wiki/Probability_mass_function)\n",
    "\n",
    "- [Cumulative distribution function](https://en.wikipedia.org/wiki/Cumulative_distribution_function)"
   ]
  }
 ],
 "metadata": {
  "kernelspec": {
   "display_name": "Python 3",
   "language": "python",
   "name": "python3"
  },
  "language_info": {
   "codemirror_mode": {
    "name": "ipython",
    "version": 3
   },
   "file_extension": ".py",
   "mimetype": "text/x-python",
   "name": "python",
   "nbconvert_exporter": "python",
   "pygments_lexer": "ipython3",
   "version": "3.7.0"
  }
 },
 "nbformat": 4,
 "nbformat_minor": 2
}
