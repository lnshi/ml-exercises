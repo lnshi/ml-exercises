{
 "cells": [
  {
   "cell_type": "markdown",
   "metadata": {},
   "source": [
    "## Some clarifications\n",
    "\n",
    "- In statistics, the logistic model (or logit model) is a widely used statistical model that, in its basic form, uses a [logistic function](https://en.wikipedia.org/wiki/Logistic_function) to model a binary dependent variable; many more complex [extensions](https://en.wikipedia.org/wiki/Logistic_regression#Extensions) exist;\n",
    "\n",
    "\n",
    "- In regression analysis, logistic regression (or logit regression) is estimating the parameters of a logistic model; it is a form of binomial regression. Mathematically, a binary logistic model has a dependent variable with two possible values, such as pass/fail, win/lose, alive/dead or healthy/sick; these are represented by an indicator variable, where the two values are labeled \"0\" and \"1\";\n",
    "\n",
    "\n",
    "- In the logistic model, the [log-odds](https://en.wikipedia.org/wiki/Log-odds) (the logarithm of the odds) for the value labeled \"1\" is a linear combination of one or more independent variables (\"predictors\"); the independent variables can each be a binary variable (two classes, coded by an indicator variable) or a continuous variable (any real value). The corresponding probability of the value labeled \"1\" can vary between 0 (certainly the value \"0\") and 1 (certainly the value \"1\"), hence the labeling; the function that converts log-odds to probability is the logistic function, hence the name;\n",
    "\n",
    "\n",
    "- The [unit of measurement](https://en.wikipedia.org/wiki/Unit_of_measurement) for the log-odds scale is called a [logit](https://en.wikipedia.org/wiki/Logit), from **log**istic un**it**, hence the alternative names;\n",
    "\n",
    "\n",
    "- Analogous models with a different sigmoid function instead of the logistic function can also be used, such as the [probit model](https://en.wikipedia.org/wiki/Probit_model); the defining characteristic of the logistic model is that increasing one of the independent variables multiplicatively scales the odds of the given outcome at a constant rate, with each dependent variable having its own parameter; for a binary independent variable this generalizes the [odds ratio](https://en.wikipedia.org/wiki/Odds_ratio);\n",
    "\n",
    "\n",
    "- Logistic regression was developed by statistician David Cox in 1958. The binary logistic regression model has [extensions](https://en.wikipedia.org/wiki/Logistic_regression#Extensions) to more than two levels of the dependent variable: categorical outputs with more than two values are modelled by [multinomial logistic regression](https://en.wikipedia.org/wiki/Multinomial_logistic_regression), and if the multiple categories are [ordered](https://en.wikipedia.org/wiki/Level_of_measurement#Ordinal_type), by [ordinal logistic regression](https://en.wikipedia.org/wiki/Ordinal_logistic_regression), for example the proportional odds ordinal logistic model. The model itself simply models probability of output in terms of input, and does not perform [statistical classification](https://en.wikipedia.org/wiki/Statistical_classification) (it is not a classifier), though it can be used to make a classifier, for instance by choosing a cutoff value and classifying inputs with probability greater than the cutoff as one class, below the cutoff as the other; this is a common way to make a binary classifier. The coefficients are generally not computed by a closed-form expression, unlike [linear least squares](https://en.wikipedia.org/wiki/Linear_least_squares_(mathematics)); see [§ Model fitting](https://en.wikipedia.org/wiki/Logistic_regression#Model_fitting);\n",
    "\n",
    "✅ Find more details about 'log-it' and 'odds' from [this separate topic]()."
   ]
  },
  {
   "cell_type": "markdown",
   "metadata": {},
   "source": [
    "## Modeling\n",
    "\n",
    "Lets look back the [linear regression](https://lnshi.github.io/ml-exercises/ml_basics_in_html/rdm001_multivariable_linear_regression_gradient_descent/multivariable_linear_regression_gradient_descent.html#Define-the-latest-squares-cost-function) a bit, for linear regression its [link function](https://en.wikipedia.org/wiki/Generalized_linear_model#Link_function) is a multivariate linear equation:\n",
    "\n",
    "$$\n",
    "z_\\theta(x_1, x_2, \\dots, x_m) = \\theta_0 + \\theta_1x_1 + \\dots + \\theta_mx_m \\\n",
    "= \\theta \\\n",
    "\\begin{pmatrix}\n",
    "  1 & x_1 & x_2 & \\dots & x_m\n",
    "\\end{pmatrix} , \\, \\\n",
    "\\theta = \\\n",
    "\\begin{pmatrix}\n",
    "  \\theta_0 \\\\\n",
    "  \\theta_1 \\\\\n",
    "  \\vdots \\\\\n",
    "  \\theta_m\n",
    "\\end{pmatrix}\n",
    "$$\n",
    "\n",
    "for logistic regression it is a [generalized linear model (GLM)](https://en.wikipedia.org/wiki/Generalized_linear_model) also, and its [link function](https://en.wikipedia.org/wiki/Generalized_linear_model#Link_function) is [sigmoid function](https://en.wikipedia.org/wiki/Sigmoid_function): $y = \\frac{1}{1 + e^{-x}}$, then we can define the model for logistic regression:\n",
    "\n",
    "$$\n",
    "h_\\theta(x) = h_\\theta(x_1, x_2, \\dots, x_m) = \\frac{1}{1 + e^{-\\theta \\begin{pmatrix} 1 & x_1 & x_2 & \\dots & x_m \\end{pmatrix}}} \\\n",
    ", \\, \\\n",
    "\\theta = \\\n",
    "\\begin{pmatrix}\n",
    "  \\theta_0 \\\\\n",
    "  \\theta_1 \\\\\n",
    "  \\vdots \\\\\n",
    "  \\theta_m\n",
    "\\end{pmatrix}\n",
    "$$\n",
    "\n",
    "✅ Find more details about why the link function for linear regression is 'a multivariate linear equation', and for logistic is sigmoid function from [this separate topic]().\n",
    "\n",
    "#### Lets see what does the sigmoid function do\n",
    "\n",
    "- Lets draw the sigmoid function"
   ]
  },
  {
   "cell_type": "code",
   "execution_count": 30,
   "metadata": {},
   "outputs": [
    {
     "data": {
      "image/png": "[encoded data removed]",
      "text/plain": [
       "<Figure size 864x288 with 1 Axes>"
      ]
     },
     "metadata": {
      "needs_background": "light"
     },
     "output_type": "display_data"
    }
   ],
   "source": [
    "import numpy as np\n",
    "import matplotlib.pyplot as plt\n",
    "%matplotlib inline\n",
    "\n",
    "def f(x):\n",
    "    return 1 / (1 + np.power(np.e, -x))\n",
    "\n",
    "x = np.linspace(-11., 11., num=100, endpoint=True,)\n",
    "\n",
    "fig, ax = plt.subplots(figsize=(12, 4))\n",
    "ax.plot(x, f(x), 'r')\n",
    "ax.set_xticks(np.linspace(-10., 10., num=11, endpoint=True), minor=False)\n",
    "ax.set_xlabel('x')\n",
    "ax.set_ylabel('$f(x)$')\n",
    "\n",
    "vline = ax.axvline(x=0.)\n",
    "vline.set_linestyle('dotted')\n",
    "vline.set_linewidth(1.3)"
   ]
  },
  {
   "cell_type": "markdown",
   "metadata": {},
   "source": [
    "- Analysis\n",
    "\n",
    "  * The domain of the sigmoid function is: $(-\\infty, +\\infty)$, and the range is: $(0, 1)$;\n",
    "  * So the range of the above function: $h_\\theta(x)$ is also $(0, 1)$;\n",
    "  * Then the value of the above function: $h_\\theta(x)$ can represent some kind of probability, like:\n",
    "    - If $h_\\theta(x) < 0.5$ then the sample $x$ belongs to class A;\n",
    "    - If $h_\\theta(x) > 0.5$ then the sample $x$ belongs to calss B;\n",
    "    - So we can treat the sigmoid function as the [PDF (probability density function)](https://lnshi.github.io/ml-exercises/ml_basics_in_html/rdm005_PDF_PMF_CDF/PDF_PMF_CDF.html#PDF-(probability-density-function)) of the ALL sample dataset X;\n",
    "\n",
    "#### How to estimate the $\\theta$: [MLE (Maximum Likelihood Estimation)](https://lnshi.github.io/ml-exercises/ml_basics_in_html/rdm006_Bayes%E2%80%99%20Theorem_and_MLE_MAP/Bayes%E2%80%99%20Theorem_and_MLE_MAP.html)\n",
    "\n",
    "- We can see the value of the above function: $h_\\theta(x)$ represents the probability of that $h_\\theta(x) = 1$, so to input $x$, the probability of $h_\\theta(x) = 1$ or $h_\\theta(x) = 0$ is:\n",
    "  * $h_\\theta(x) = 1$ (belongs to class 1): $P(Y=1|x; \\theta) = h_\\theta(x)$;\n",
    "  * $h_\\theta(x) = 0$ (belongs to class 0): $P(Y=0|x; \\theta) = 1 - h_\\theta(x)$;\n",
    "  * That is: discrete variable $Y$ ($x$ belongs to class 0 or 1) subjects to [bernoulli distribution](https://en.wikipedia.org/wiki/Bernoulli_distribution), then we can get its [PMF (probability mass function)](https://lnshi.github.io/ml-exercises/ml_basics_in_html/rdm005_PDF_PMF_CDF/PDF_PMF_CDF.html#PMF-(probability-mass-function)):\n",
    "  \n",
    "$$\n",
    "P(Y|x; \\theta) = [h_\\theta(x)]^Y[1 - h_\\theta(x)]^{1 - Y}\n",
    "$$\n",
    "<br>\n",
    "\n",
    "***\n",
    "***\n",
    "**<center>Note</center>**\n",
    "\n",
    "Here I used capital $Y$, it corresponds to each $y^{(i)} (i = 1, 2, \\dots, n)$ in the sample dataset $X$, but due to the fact that sometimes for the given sample dataset $X$ the $y^{(i)} = h_\\theta(x_1^{(i)}, x_2^{(i)}, \\dots, x_m^{(i)}) \\not\\in \\{0, 1\\}$, then for binomial regression we need to normalize it to 0 or 1 according to some rules, so here I use capital $Y$ to represent the normalized $y^{(i)} (i = 1, 2, \\dots, n)$.\n",
    "\n",
    "In the latter part of this notebook, I will use back $y^{(i)} (i = 1, 2, \\dots, n)$ for standardization purpose, but you need to remember: the only allowed value for $y^{(i)} = h_\\theta(x_1^{(i)}, x_2^{(i)}, \\dots, x_m^{(i)})$ is 0 or 1, if it is NOT, then you need to do the nomalization first.\n",
    "\n",
    "***\n",
    "***\n",
    "\n",
    "- Since each sample point in $X$ is independent to each other, then we can tell $X$'s [Joint probability distribution](https://en.wikipedia.org/wiki/Joint_probability_distribution) as:\n",
    "\n",
    "$$\n",
    "\\begin{align*}\n",
    "  J(\\theta) &= \\prod_{i = 1}^{n}P(y^{(i)}|x^{(i)}; \\theta) \\\\\n",
    "  &= \\prod_{i = 1}^{n}[h_\\theta(x^{(i)})]^{y^{(i)}}[1 - h_\\theta(x^{(i)})^{1 - y^{(i)}}] \\\\\n",
    "  \\textbf{ log-it} \\\\\n",
    "  \\Rightarrow j(\\theta) &= log(J(\\theta)) = ln(J(\\theta)) = ln\\big(\\prod_{i = 1}^{n}[h_\\theta(x^{(i)})]^{y^{(i)}}[1 - h_\\theta(x^{(i)})^{1 - y^{(i)}}]\\big) \\\\\n",
    "  &= \\sum_{i = 1}^{n} ln[h_\\theta(x^{(i)})]^{y^{(i)}} + ln[1 - h_\\theta(x^{(i)})]^{1 - y^{(i)}} \\\\\n",
    "  &= \\sum_{i = 1}^{n} y^{(i)}ln[h_\\theta(x^{(i)})] + (1 - y^{(i)})ln[1 - h_\\theta(x^{(i)})]\n",
    "\\end{align*}\n",
    "$$\n",
    "<br>\n",
    "\n",
    "- [MLE (Maximum Likelihood Estimation)](https://lnshi.github.io/ml-exercises/ml_basics_in_html/rdm006_Bayes%E2%80%99%20Theorem_and_MLE_MAP/Bayes%E2%80%99%20Theorem_and_MLE_MAP.html) tries to find out the $\\theta$ to maximize the above $j(\\theta)$, we can use the gradient ASCENT algorithm, but if we do a small transformation then we can use the [gradient descent algorithm](https://lnshi.github.io/ml-exercises/ml_basics_in_html/rdm002_gradient_and_gradient_descent/gradient_and_gradient_descent.html):\n",
    "\n",
    "$$\n",
    "l(\\theta) = -\\frac{1}{n}j(\\theta)\n",
    "$$\n",
    "<br>\n",
    "\n",
    "- **Conclusion: so the task to estimate the $\\theta$ is: finding out the $\\theta$ to minimize the value of the above function $l(\\theta)$ with gradient descent algorithm!**"
   ]
  },
  {
   "cell_type": "markdown",
   "metadata": {},
   "source": [
    "## Run through with real example"
   ]
  },
  {
   "cell_type": "code",
   "execution_count": 31,
   "metadata": {},
   "outputs": [],
   "source": [
    "import os\n",
    "\n",
    "import numpy as np\n",
    "import pandas as pd\n",
    "import matplotlib.pyplot as plt\n",
    "\n",
    "# Sets the backend of matplotlib to the 'inline' backend.\n",
    "#\n",
    "# With this backend, the output of plotting commands is displayed inline within frontends like the Jupyter notebook,\n",
    "# directly below the code cell that produced it.\n",
    "# The resulting plots will then also be stored in the notebook document.\n",
    "#\n",
    "# More details: https://stackoverflow.com/questions/43027980/purpose-of-matplotlib-inline\n",
    "%matplotlib inline"
   ]
  },
  {
   "cell_type": "markdown",
   "metadata": {},
   "source": [
    "#### Read the data in, and then show the first several rows"
   ]
  },
  {
   "cell_type": "code",
   "execution_count": 32,
   "metadata": {},
   "outputs": [
    {
     "data": {
      "text/html": [
       "<div>\n",
       "<style scoped>\n",
       "    .dataframe tbody tr th:only-of-type {\n",
       "        vertical-align: middle;\n",
       "    }\n",
       "\n",
       "    .dataframe tbody tr th {\n",
       "        vertical-align: top;\n",
       "    }\n",
       "\n",
       "    .dataframe thead th {\n",
       "        text-align: right;\n",
       "    }\n",
       "</style>\n",
       "<table border=\"1\" class=\"dataframe\">\n",
       "  <thead>\n",
       "    <tr style=\"text-align: right;\">\n",
       "      <th></th>\n",
       "      <th>Exam 1</th>\n",
       "      <th>Exam 2</th>\n",
       "      <th>Admitted</th>\n",
       "    </tr>\n",
       "  </thead>\n",
       "  <tbody>\n",
       "    <tr>\n",
       "      <th>0</th>\n",
       "      <td>34.623660</td>\n",
       "      <td>78.024693</td>\n",
       "      <td>0</td>\n",
       "    </tr>\n",
       "    <tr>\n",
       "      <th>1</th>\n",
       "      <td>30.286711</td>\n",
       "      <td>43.894998</td>\n",
       "      <td>0</td>\n",
       "    </tr>\n",
       "    <tr>\n",
       "      <th>2</th>\n",
       "      <td>35.847409</td>\n",
       "      <td>72.902198</td>\n",
       "      <td>0</td>\n",
       "    </tr>\n",
       "    <tr>\n",
       "      <th>3</th>\n",
       "      <td>60.182599</td>\n",
       "      <td>86.308552</td>\n",
       "      <td>1</td>\n",
       "    </tr>\n",
       "    <tr>\n",
       "      <th>4</th>\n",
       "      <td>79.032736</td>\n",
       "      <td>75.344376</td>\n",
       "      <td>1</td>\n",
       "    </tr>\n",
       "  </tbody>\n",
       "</table>\n",
       "</div>"
      ],
      "text/plain": [
       "      Exam 1     Exam 2  Admitted\n",
       "0  34.623660  78.024693         0\n",
       "1  30.286711  43.894998         0\n",
       "2  35.847409  72.902198         0\n",
       "3  60.182599  86.308552         1\n",
       "4  79.032736  75.344376         1"
      ]
     },
     "execution_count": 32,
     "metadata": {},
     "output_type": "execute_result"
    }
   ],
   "source": [
    "path = os.getcwd() + '/data.csv'\n",
    "data = pd.read_csv(path, sep=',', header=0)\n",
    "data.head()"
   ]
  },
  {
   "cell_type": "markdown",
   "metadata": {},
   "source": [
    "As you can see, we have two independent continuous variables: `Exam 1` and `Exam 2`, and we want to predict the binomial result `Admitted` base on them: 0 → `unadmitted`, 1 → `admitted`.\n",
    "\n",
    "#### Lets visualise the sample dataset with scatter plot"
   ]
  },
  {
   "cell_type": "code",
   "execution_count": 33,
   "metadata": {},
   "outputs": [
    {
     "data": {
      "text/plain": [
       "Text(0,0.5,'Exam 2 Score')"
      ]
     },
     "execution_count": 33,
     "metadata": {},
     "output_type": "execute_result"
    },
    {
     "data": {
      "image/png": "[encoded data removed]",
      "text/plain": [
       "<Figure size 864x576 with 1 Axes>"
      ]
     },
     "metadata": {
      "needs_background": "light"
     },
     "output_type": "display_data"
    }
   ],
   "source": [
    "positive = data[data['Admitted'].isin([1])]\n",
    "negative = data[data['Admitted'].isin([0])]\n",
    "\n",
    "fig, ax = plt.subplots(figsize=(12,8))\n",
    "ax.scatter(positive['Exam 1'], positive['Exam 2'], s=50, c='b', marker='o', label='Admitted')\n",
    "ax.scatter(negative['Exam 1'], negative['Exam 2'], s=50, c='r', marker='x', label='Not Admitted')\n",
    "ax.legend()\n",
    "ax.set_xlabel('Exam 1 Score')\n",
    "ax.set_ylabel('Exam 2 Score')"
   ]
  },
  {
   "cell_type": "markdown",
   "metadata": {},
   "source": [
    "#### Data preprocessing and 'features data' / 'target variable' split"
   ]
  },
  {
   "cell_type": "code",
   "execution_count": 34,
   "metadata": {},
   "outputs": [],
   "source": [
    "# Add a 'ones' column.\n",
    "data.insert(0, 'Ones', 1)"
   ]
  },
  {
   "cell_type": "code",
   "execution_count": 35,
   "metadata": {},
   "outputs": [],
   "source": [
    "# Set X (features data) and y (target variable).\n",
    "cols = data.shape[1]\n",
    "X = data.iloc[:, 0:cols-1].values\n",
    "y = data.iloc[:, cols-1:cols].values\n",
    "\n",
    "# Initalize the parameters array theta.\n",
    "theta = np.zeros(cols - 1)"
   ]
  },
  {
   "cell_type": "markdown",
   "metadata": {},
   "source": [
    "#### Always pay attention to the shape of the matrixes to get around of some unnecessary troubles."
   ]
  },
  {
   "cell_type": "code",
   "execution_count": 36,
   "metadata": {},
   "outputs": [
    {
     "data": {
      "text/plain": [
       "((100, 3), (100, 1), (3,))"
      ]
     },
     "execution_count": 36,
     "metadata": {},
     "output_type": "execute_result"
    }
   ],
   "source": [
    "X.shape, y.shape, theta.shape"
   ]
  },
  {
   "cell_type": "markdown",
   "metadata": {},
   "source": [
    "#### Define the sigmoid function"
   ]
  },
  {
   "cell_type": "code",
   "execution_count": 37,
   "metadata": {},
   "outputs": [],
   "source": [
    "def sigmoid(x):\n",
    "    return 1 / (1 + np.exp(-x))"
   ]
  },
  {
   "cell_type": "markdown",
   "metadata": {},
   "source": [
    "#### Define the cost function"
   ]
  },
  {
   "cell_type": "code",
   "execution_count": 38,
   "metadata": {},
   "outputs": [],
   "source": [
    "def cost(theta, X, y):\n",
    "    theta = np.reshape(theta, (-1, len(theta)))\n",
    "    \n",
    "    assert X.shape[1] == theta.shape[1], \\\n",
    "      'Improper shape of theta, expected to be: {}, actual: {}'.format((1, X.shape[1]), theta.shape)\n",
    "    \n",
    "    # Numpy np.multiply vs *-Operator:\n",
    "    #   https://stackoverflow.com/questions/49493482/numpy-np-multiply-vs-operator\n",
    "    # There is no difference. However, the np.multiply function can take in additional,\n",
    "    #   optional arguments, making it more versatile.\n",
    "    part0 = np.multiply(y, np.log(sigmoid(X @ theta.T)))\n",
    "    part1 = np.multiply(1 - y, np.log(1 - sigmoid(X @ theta.T)))\n",
    "    \n",
    "    return -np.sum(part0 + part1) / len(X)"
   ]
  },
  {
   "cell_type": "markdown",
   "metadata": {},
   "source": [
    "#### Lets check the initial cost"
   ]
  },
  {
   "cell_type": "code",
   "execution_count": 39,
   "metadata": {},
   "outputs": [
    {
     "data": {
      "text/plain": [
       "0.6931471805599453"
      ]
     },
     "execution_count": 39,
     "metadata": {},
     "output_type": "execute_result"
    }
   ],
   "source": [
    "cost(theta, X, y)"
   ]
  },
  {
   "cell_type": "markdown",
   "metadata": {},
   "source": [
    "#### Lets define the gradient\n",
    "\n",
    "- [What is gradient?](https://lnshi.github.io/ml-exercises/ml_basics_in_html/rdm002_gradient_and_gradient_descent/gradient_and_gradient_descent.html#Derivative-and-partial-derivative)\n",
    "\n",
    "- Partial derivative of $l(\\theta)$ to $\\theta_i$\n",
    "\n",
    "$$\n",
    "\\begin{align*}\n",
    "  \\because\\, j(\\theta) &= \\sum_{i = 1}^{n} y^{(i)}ln[h_\\theta(x^{(i)})] + (1 - y^{(i)})ln[1 - h_\\theta(x^{(i)})] \\\\\n",
    "  &= \\sum_{i = 1}^{n} y^{(i)}ln[h_\\theta(x^{(i)})] - y^{(i)}ln[1 - h_\\theta(x^{(i)})] + ln[1 - h_\\theta(x^{(i)})] \\\\\n",
    "  &= \\sum_{i = 1}^{n} y^{(i)}ln\\frac{h_\\theta(x^{(i)})}{1 - h_\\theta(x^{(i)})} + ln[1 - h_\\theta(x^{(i)})] \\\\\n",
    "  &= \\sum_{i = 1}^{n} y^{(i)}ln\\frac{\\frac{1}{1 + e^{-\\theta x^{(i)}}}}{1 - \\frac{1}{1 + e^{-\\theta x^{(i)}}}} + ln[1 - h_\\theta(x^{(i)})] \\\\\n",
    "  &= \\sum_{i = 1}^{n} y^{(i)}ln\\frac{1}{e^{-\\theta x^{(i)}}} + ln[1 - h_\\theta(x^{(i)})] \\\\\n",
    "  &= \\sum_{i = 1}^{n} -y^{(i)}lne^{-\\theta x^{(i)}} + ln[1 - h_\\theta(x^{(i)})] \\\\\n",
    "  &= \\sum_{i = 1}^{n} y^{(i)}\\theta x^{(i)} + ln[1 - h_\\theta(x^{(i)})] \\\\\n",
    "  \\\\\n",
    "  \\because\\, 1 - h_\\theta(x) &= \\frac{e^{-\\theta x}}{1 + e^{-\\theta x}} \\\\\n",
    "  &\\Rightarrow \\frac{\\partial}{\\partial \\theta} h_\\theta(x) \\\n",
    "    = -\\frac{-x e^{-\\theta x}}{(1 + e^{-\\theta x})^2} \\\n",
    "    = x \\frac{e^{-\\theta x}}{1 + e^{-\\theta x}} \\frac{1}{1 + e^{-\\theta x}} \\\n",
    "    = x [1 - h_\\theta(x)] h_\\theta(x) \\\\\n",
    "  &\\Rightarrow \\frac{\\partial}{\\partial \\theta}ln[1 - h_\\theta(x)] \\\n",
    "    = \\frac{1}{1 - h_\\theta(x)} (-\\frac{\\partial}{\\partial \\theta} h_\\theta(x)) \\\n",
    "    = -x h_\\theta(x) \\\\\n",
    "  \\\\\n",
    "  \\therefore\\, \\frac{\\partial}{\\partial \\theta_i}j(\\theta) \\\n",
    "  &= \\sum_{i = 1}^{n} [y^{(i)} x^{(i)} - x^{(i)} h_\\theta(x^{(i)})] \\\n",
    "   = \\sum_{i = 1}^{n} [y^{(i)} - h_\\theta(x^{(i)})]x^{(i)} \\\\\n",
    "  \\\\\n",
    "  \\therefore\\, \\frac{\\partial}{\\partial \\theta_i} l(\\theta) \\\n",
    "  &= \\frac{1}{n} \\sum_{i = 1}^{n} [h_\\theta(x^{(i)}) - y^{(i)}]x^{(i)}\n",
    "\\end{align*}\n",
    "$$"
   ]
  },
  {
   "cell_type": "code",
   "execution_count": 40,
   "metadata": {},
   "outputs": [],
   "source": [
    "def gradient(theta, X, y):\n",
    "    theta = np.reshape(theta, (-1, len(theta)))\n",
    "    \n",
    "    assert X.shape[1] == theta.shape[1], \\\n",
    "      'Improper shape of theta, expected to be: {}, actual: {}'.format((1, X.shape[1]), theta.shape)\n",
    "    \n",
    "    parameters = int(theta.shape[1])\n",
    "    grad = np.zeros(parameters)\n",
    "    error = sigmoid(X @ theta.T) - y\n",
    "    \n",
    "    for i in range(parameters):\n",
    "        term = np.multiply(error, X[:, [i]])\n",
    "        grad[i] = np.sum(term) / len(X)\n",
    "        \n",
    "    return grad"
   ]
  },
  {
   "cell_type": "markdown",
   "metadata": {},
   "source": [
    "#### Experience [scipy.optimize.fmin_tnc](https://docs.scipy.org/doc/scipy-0.14.0/reference/generated/scipy.optimize.fmin_tnc.html)\n",
    "\n",
    "As you noted: we didn't define the gradient descent algorithm but the [gradient]((https://lnshi.github.io/ml-exercises/ml_basics_in_html/rdm002_gradient_and_gradient_descent/gradient_and_gradient_descent.html#Derivative-and-partial-derivative)) only, lets try to use the [fminunc, Octave function](https://octave.org/doc/v4.0.1/Minimizers.html) to achieve the same effect like gradient descent."
   ]
  },
  {
   "cell_type": "code",
   "execution_count": 41,
   "metadata": {},
   "outputs": [
    {
     "data": {
      "text/plain": [
       "0.20349770158947444"
      ]
     },
     "execution_count": 41,
     "metadata": {},
     "output_type": "execute_result"
    }
   ],
   "source": [
    "import scipy.optimize as opt\n",
    "\n",
    "result = opt.fmin_tnc(func=cost, x0=theta, fprime=gradient, args=(X, y))\n",
    "cost(result[0], X, y)"
   ]
  },
  {
   "cell_type": "markdown",
   "metadata": {},
   "source": [
    "#### Lets define the `predict` function with the $\\theta$ we learned and check the total prediction accuracy"
   ]
  },
  {
   "cell_type": "code",
   "execution_count": 42,
   "metadata": {},
   "outputs": [],
   "source": [
    "def predict(theta, X):\n",
    "    theta = np.reshape(theta, (-1, len(theta)))\n",
    "    \n",
    "    assert X.shape[1] == theta.shape[1], \\\n",
    "      'Improper shape of theta, expected to be: {}, actual: {}'.format((1, X.shape[1]), theta.shape)\n",
    "    \n",
    "    probabilities = sigmoid(X @ theta.T)\n",
    "    \n",
    "    return [1 if p >= 0.5 else 0 for p in probabilities]"
   ]
  },
  {
   "cell_type": "code",
   "execution_count": 43,
   "metadata": {},
   "outputs": [
    {
     "name": "stdout",
     "output_type": "stream",
     "text": [
      "Total accuracy: 89.00%\n"
     ]
    }
   ],
   "source": [
    "predictions = predict(result[0], X)\n",
    "\n",
    "r_or_w = []\n",
    "for (a, b) in zip(predictions, y):\n",
    "    if (a == 1 and b[0] == 1) or (a == 0 and b[0] == 0):\n",
    "        r_or_w.append(1)\n",
    "    else:\n",
    "        r_or_w.append(0)\n",
    "        \n",
    "accuracy = float(sum(r_or_w)) / len(r_or_w) * 100\n",
    "\n",
    "print('Total accuracy: {0:.2f}%'.format(accuracy))"
   ]
  },
  {
   "cell_type": "markdown",
   "metadata": {},
   "source": [
    "## Regularized logistic regression\n",
    "\n",
    "#### [Norm](https://en.wikipedia.org/wiki/Norm_(mathematics))\n",
    "\n",
    "Vector\n",
    "  - **0-norm**: number of the non-zero components;\n",
    "  - **1-norm**: sum of the absolute values of the components:\n",
    "    $$||x||_1 = \\sum_{i = 1}^{n}|x_i|$$\n",
    "  - **2-norm**: euclidean norm, represents the magnitude/length of the vector: \n",
    "    $$||x||_2 = \\sqrt{\\sum_{i = 1}^{n}x_i^2}$$\n",
    "  - **$\\infty$-norm**: the maximum absolute value of the components:\n",
    "    $$||x||_{\\infty} = max(|x_1|, |x_2|, \\dots, |x_n|)$$\n",
    "  - **$-\\infty$-norm**: the minimum absolute of the components:\n",
    "    $$||x||_{-\\infty} = min(|x_1|, |x_2|, \\dots, |x_n|)$$\n",
    "  - **p-norm**:\n",
    "    $$||x||_p = (\\sum_{i = 1}^{n}|x_i|^p)^{\\frac{1}{p}}$$\n",
    "    \n",
    "Matrix($X$, m X n, m rows and n columns)\n",
    "  - [Matrix norm]((https://en.wikipedia.org/wiki/Matrix_norm))\n",
    "  \n",
    "#### Regularization\n",
    "\n",
    "Different types of fittings:\n",
    "  - <img src=\"./fitting_types.png\">\n",
    "  \n",
    "Analysis:\n",
    "  - Any function can be approached by a combination of polynomials: [Taylor series](https://en.wikipedia.org/wiki/Taylor_series)\n",
    "  - For easier telling, we take this function as example: $f_\\theta(x) = \\theta_0 + \\theta_1x_1 + \\theta_2x_2 + \\dots + \\theta_mx_m$\n",
    "  - Over-fitting is because we had too many **non-zero** components in the vector $\\theta$ (note: this is the 0-norm of the vector $\\theta$), that is: the model tryies too much to approach the boundary;\n",
    "  - Like in above 'Over-fitting' graph, i tagged two parts of the model with **black dot**, if we can make its corresponding coefficients in the fitting polynomials to be 0 or a small enough number, then we can eliminate/weaken its influence to the model, that is: making the model approach 'Appropriate-fitting' from 'Over-fitting';\n",
    "  - From the [gradient descent algorithm](https://lnshi.github.io/ml-exercises/ml_basics_in_html/rdm002_gradient_and_gradient_descent/gradient_and_gradient_descent.html#Gradient-descent-algorithm) we know we always decrease all the $\\theta_i (i = 0, 1, \\dots, m)$ in one round; So if we add one **positive** item to the cost function, like for logistic regression, we change the cost function\n",
    "  \n",
    "  from:\n",
    "  $$\n",
    "  \\begin{align*}\n",
    "    l(\\theta) &= -\\frac{1}{n}j(\\theta) \\\\\n",
    "    &= -\\frac{1}{n}\\sum_{i = 1}^{n} y^{(i)}ln[h_\\theta(x^{(i)})] + (1 - y^{(i)})ln[1 - h_\\theta(x^{(i)})]\n",
    "  \\end{align*}\n",
    "  $$\n",
    "  \n",
    "  to:\n",
    "  $$\n",
    "  \\begin{align*}\n",
    "    l(\\theta) &= -\\frac{1}{n}j(\\theta) + \\frac{\\lambda}{2n}\\sum_{i = 1}^{m}\\theta_i^2 \\\\\n",
    "    &= -\\frac{1}{n}\\sum_{i = 1}^{n} y^{(i)}ln[h_\\theta(x^{(i)})] + (1 - y^{(i)})ln[1 - h_\\theta(x^{(i)})] + \\frac{\\lambda}{2n}\\sum_{i = 1}^{m}\\theta_i^2 \\\\\n",
    "    \\big(&\\frac{\\lambda}{2n}\\sum_{i = 1}^{m}\\theta_i^2 \\textbf{ is called the regularization item}\\big)\n",
    "  \\end{align*}\n",
    "  $$\n",
    "  \n",
    "  that is for the new regularized gradient algorithm:\n",
    "  \n",
    "  $\n",
    "  \\text{repeat until convergence }\\Bigg\\{\n",
    "  $\n",
    "  \n",
    "  $$\n",
    "  \\begin{align*}\n",
    "    \\theta_0 &= \\theta_0 - \\alpha\\frac{1}{n} \\sum_{i = 1}^{n} [h_\\theta(x^{(i)}) - y^{(i)}]x_0^{(i)} \\\\\n",
    "    \\theta_1 &= \\theta_1 - \\alpha\\Bigg[\\frac{1}{n} \\sum_{i = 1}^{n} [h_\\theta(x^{(i)}) - y^{(i)}]x_1^{(i)} + \\frac{\\lambda}{n}\\theta_1\\Bigg] \\\\\n",
    "    \\vdots \\\\\n",
    "    \\theta_m &= \\theta_m - \\alpha\\Bigg[\\frac{1}{n} \\sum_{i = 1}^{n} [h_\\theta(x^{(i)}) - y^{(i)}]x_m^{(i)} + \\frac{\\lambda}{n}\\theta_m\\Bigg]\n",
    "  \\end{align*}\n",
    "  $$\n",
    "  \n",
    "  $\n",
    "  \\Bigg\\}\n",
    "  $\n",
    "  \n",
    "  so then: when we try to minimise the cost function, we need to both minimise the original cost items and the newly added positive regularization items, so kindly like the newly added positive regularization items put a **penalization** to the original cost items: now they need to decrease more, actually it is penalization to each component of the $\\theta$, but __note__ the regularization item we start from $i = 1$, so no penalization to the $\\theta_0$, coz $\\theta_0$ corresponds to the the ones column we added;\n",
    "  \n",
    "  also: the noisy samples are alwasy minority in the whole samples dataset, so they should originally have smaller coefficients compare with others, then after the penalization we have chance to eliminate/weaken their influences, that is: making the model approach 'Appropriate-fitting' from 'Over-fitting'!"
   ]
  },
  {
   "cell_type": "markdown",
   "metadata": {},
   "source": [
    "## Run regularized logistic regression with real example\n",
    "\n",
    "Lets say we have some wafers' testing scores data('Test 1' scores and 'Test 2' scores) and corresponding acceptance data('Accepted': 0 or 1), and we want to build one model to predict whether a wafer can be accepted or not according to its two test scores.\n",
    "\n",
    "#### Dataset visualization"
   ]
  },
  {
   "cell_type": "code",
   "execution_count": 44,
   "metadata": {},
   "outputs": [
    {
     "data": {
      "text/plain": [
       "Text(0,0.5,'Test 2 Score')"
      ]
     },
     "execution_count": 44,
     "metadata": {},
     "output_type": "execute_result"
    },
    {
     "data": {
      "image/png": "[encoded data removed]",
      "text/plain": [
       "<Figure size 864x576 with 1 Axes>"
      ]
     },
     "metadata": {
      "needs_background": "light"
     },
     "output_type": "display_data"
    }
   ],
   "source": [
    "path = os.getcwd() + '/regularized_logistic_regression_data.csv'\n",
    "data2 = pd.read_csv(path, sep=',', header=0)\n",
    "\n",
    "positive = data2[data2['Accepted'].isin([1])]\n",
    "negative = data2[data2['Accepted'].isin([0])]\n",
    "\n",
    "fig, ax = plt.subplots(figsize=(12,8))\n",
    "ax.scatter(positive['Test 1'], positive['Test 2'], s=50, c='b', marker='o', label='Accepted')\n",
    "ax.scatter(negative['Test 1'], negative['Test 2'], s=50, c='r', marker='x', label='Rejected')\n",
    "ax.legend()\n",
    "ax.set_xlabel('Test 1 Score')\n",
    "ax.set_ylabel('Test 2 Score')"
   ]
  },
  {
   "cell_type": "markdown",
   "metadata": {},
   "source": [
    "As you can see from above graph, for this dataset there is **No** linear decision boundary in 2-dimensional space, to solve this kind of classfication problem one way is: we can do polynomial expansion to generate more features from the limited base features (the essence is projecting the sample dataset to higher dimensional space!).\n",
    "\n",
    "#### Polynomial expansion to generate more features from the limited base features\n",
    "\n",
    "#### Question: what are the best practices / skills / underlying theories of the features expansion?"
   ]
  },
  {
   "cell_type": "code",
   "execution_count": 45,
   "metadata": {},
   "outputs": [],
   "source": [
    "def expand(dimension):\n",
    "    data = pd.read_csv(path, sep=',', header=0)\n",
    "    x1 = data['Test 1']  \n",
    "    x2 = data['Test 2']\n",
    "    \n",
    "    for i in range(1, dimension):  \n",
    "        for j in range(0, i):\n",
    "            data['F' + str(i) + str(j)] = np.power(x1, i - j) * np.power(x2, j)\n",
    "\n",
    "    data.drop('Test 1', axis=1, inplace=True)  \n",
    "    data.drop('Test 2', axis=1, inplace=True)\n",
    "    \n",
    "    # Add a 'ones' column.\n",
    "    data.insert(1, 'Ones', 1)\n",
    "    \n",
    "    return data"
   ]
  },
  {
   "cell_type": "markdown",
   "metadata": {},
   "source": [
    "#### Test to xxpand to 11-dimensional space"
   ]
  },
  {
   "cell_type": "code",
   "execution_count": 46,
   "metadata": {
    "scrolled": true
   },
   "outputs": [
    {
     "data": {
      "text/html": [
       "<div>\n",
       "<style scoped>\n",
       "    .dataframe tbody tr th:only-of-type {\n",
       "        vertical-align: middle;\n",
       "    }\n",
       "\n",
       "    .dataframe tbody tr th {\n",
       "        vertical-align: top;\n",
       "    }\n",
       "\n",
       "    .dataframe thead th {\n",
       "        text-align: right;\n",
       "    }\n",
       "</style>\n",
       "<table border=\"1\" class=\"dataframe\">\n",
       "  <thead>\n",
       "    <tr style=\"text-align: right;\">\n",
       "      <th></th>\n",
       "      <th>Accepted</th>\n",
       "      <th>Ones</th>\n",
       "      <th>F10</th>\n",
       "      <th>F20</th>\n",
       "      <th>F21</th>\n",
       "      <th>F30</th>\n",
       "      <th>F31</th>\n",
       "      <th>F32</th>\n",
       "      <th>F40</th>\n",
       "      <th>F41</th>\n",
       "      <th>F42</th>\n",
       "      <th>F43</th>\n",
       "    </tr>\n",
       "  </thead>\n",
       "  <tbody>\n",
       "    <tr>\n",
       "      <th>0</th>\n",
       "      <td>1</td>\n",
       "      <td>1</td>\n",
       "      <td>0.051267</td>\n",
       "      <td>0.002628</td>\n",
       "      <td>0.035864</td>\n",
       "      <td>0.000135</td>\n",
       "      <td>0.001839</td>\n",
       "      <td>0.025089</td>\n",
       "      <td>0.000007</td>\n",
       "      <td>0.000094</td>\n",
       "      <td>0.001286</td>\n",
       "      <td>0.017551</td>\n",
       "    </tr>\n",
       "    <tr>\n",
       "      <th>1</th>\n",
       "      <td>1</td>\n",
       "      <td>1</td>\n",
       "      <td>-0.092742</td>\n",
       "      <td>0.008601</td>\n",
       "      <td>-0.063523</td>\n",
       "      <td>-0.000798</td>\n",
       "      <td>0.005891</td>\n",
       "      <td>-0.043509</td>\n",
       "      <td>0.000074</td>\n",
       "      <td>-0.000546</td>\n",
       "      <td>0.004035</td>\n",
       "      <td>-0.029801</td>\n",
       "    </tr>\n",
       "    <tr>\n",
       "      <th>2</th>\n",
       "      <td>1</td>\n",
       "      <td>1</td>\n",
       "      <td>-0.213710</td>\n",
       "      <td>0.045672</td>\n",
       "      <td>-0.147941</td>\n",
       "      <td>-0.009761</td>\n",
       "      <td>0.031616</td>\n",
       "      <td>-0.102412</td>\n",
       "      <td>0.002086</td>\n",
       "      <td>-0.006757</td>\n",
       "      <td>0.021886</td>\n",
       "      <td>-0.070895</td>\n",
       "    </tr>\n",
       "    <tr>\n",
       "      <th>3</th>\n",
       "      <td>1</td>\n",
       "      <td>1</td>\n",
       "      <td>-0.375000</td>\n",
       "      <td>0.140625</td>\n",
       "      <td>-0.188321</td>\n",
       "      <td>-0.052734</td>\n",
       "      <td>0.070620</td>\n",
       "      <td>-0.094573</td>\n",
       "      <td>0.019775</td>\n",
       "      <td>-0.026483</td>\n",
       "      <td>0.035465</td>\n",
       "      <td>-0.047494</td>\n",
       "    </tr>\n",
       "    <tr>\n",
       "      <th>4</th>\n",
       "      <td>1</td>\n",
       "      <td>1</td>\n",
       "      <td>-0.513250</td>\n",
       "      <td>0.263426</td>\n",
       "      <td>-0.238990</td>\n",
       "      <td>-0.135203</td>\n",
       "      <td>0.122661</td>\n",
       "      <td>-0.111283</td>\n",
       "      <td>0.069393</td>\n",
       "      <td>-0.062956</td>\n",
       "      <td>0.057116</td>\n",
       "      <td>-0.051818</td>\n",
       "    </tr>\n",
       "  </tbody>\n",
       "</table>\n",
       "</div>"
      ],
      "text/plain": [
       "   Accepted  Ones       F10       F20       F21       F30       F31       F32  \\\n",
       "0         1     1  0.051267  0.002628  0.035864  0.000135  0.001839  0.025089   \n",
       "1         1     1 -0.092742  0.008601 -0.063523 -0.000798  0.005891 -0.043509   \n",
       "2         1     1 -0.213710  0.045672 -0.147941 -0.009761  0.031616 -0.102412   \n",
       "3         1     1 -0.375000  0.140625 -0.188321 -0.052734  0.070620 -0.094573   \n",
       "4         1     1 -0.513250  0.263426 -0.238990 -0.135203  0.122661 -0.111283   \n",
       "\n",
       "        F40       F41       F42       F43  \n",
       "0  0.000007  0.000094  0.001286  0.017551  \n",
       "1  0.000074 -0.000546  0.004035 -0.029801  \n",
       "2  0.002086 -0.006757  0.021886 -0.070895  \n",
       "3  0.019775 -0.026483  0.035465 -0.047494  \n",
       "4  0.069393 -0.062956  0.057116 -0.051818  "
      ]
     },
     "execution_count": 46,
     "metadata": {},
     "output_type": "execute_result"
    }
   ],
   "source": [
    "data_11d = expand(5)\n",
    "\n",
    "data_11d.head()"
   ]
  },
  {
   "cell_type": "markdown",
   "metadata": {},
   "source": [
    "#### New cost function with regularization item"
   ]
  },
  {
   "cell_type": "code",
   "execution_count": 47,
   "metadata": {},
   "outputs": [],
   "source": [
    "def cost_reg(theta, X, y, alpha):\n",
    "    theta = np.reshape(theta, (-1, len(theta)))\n",
    "    \n",
    "    assert X.shape[1] == theta.shape[1], \\\n",
    "      'Improper shape of theta, expected to be: {}, actual: {}'.format((1, X.shape[1]), theta.shape)\n",
    "    \n",
    "    part0 = np.multiply(y, np.log(sigmoid(X @ theta.T)))\n",
    "    part1 = np.multiply(1 - y, np.log(1 - sigmoid(X @ theta.T)))\n",
    "    reg = alpha / (2 * len(X)) * np.sum(np.power(theta[:, 1:theta.shape[1]], 2))\n",
    "    \n",
    "    return -np.sum(part0 + part1) / len(X) + reg"
   ]
  },
  {
   "cell_type": "markdown",
   "metadata": {},
   "source": [
    "#### New gradient function with regularization item"
   ]
  },
  {
   "cell_type": "code",
   "execution_count": 48,
   "metadata": {},
   "outputs": [],
   "source": [
    "def gradient_reg(theta, X, y, alpha):\n",
    "    theta = np.reshape(theta, (-1, len(theta)))\n",
    "    \n",
    "    assert X.shape[1] == theta.shape[1], \\\n",
    "      'Improper shape of theta, expected to be: {}, actual: {}'.format((1, X.shape[1]), theta.shape)\n",
    "    \n",
    "    parameters = int(theta.shape[1])\n",
    "    grad = np.zeros(parameters)\n",
    "    error = sigmoid(X @ theta.T) - y\n",
    "    \n",
    "    for i in range(parameters):\n",
    "        term = np.multiply(error, X[:, [i]])\n",
    "        \n",
    "        if i == 0:\n",
    "            # No penalization to theta_0.\n",
    "            grad[i] = np.sum(term) / len(X)\n",
    "        else:\n",
    "            grad[i] = np.sum(term) / len(X) + alpha / len(X) * theta[:, i]\n",
    "        \n",
    "    return grad"
   ]
  },
  {
   "cell_type": "markdown",
   "metadata": {},
   "source": [
    "#### Prepare the 11-d data"
   ]
  },
  {
   "cell_type": "code",
   "execution_count": 76,
   "metadata": {},
   "outputs": [
    {
     "data": {
      "text/plain": [
       "((118, 11), (118, 1), (11,))"
      ]
     },
     "execution_count": 76,
     "metadata": {},
     "output_type": "execute_result"
    }
   ],
   "source": [
    "data_11d = expand(5)\n",
    "\n",
    "cols = data_11d.shape[1]\n",
    "X_11d = data_11d.iloc[:, 1:cols].values\n",
    "y_11d = data_11d.iloc[:, 0:1].values\n",
    "theta_11d = np.zeros(cols - 1)\n",
    "\n",
    "alpha_11d = 0.001\n",
    "\n",
    "X_11d.shape, y_11d.shape, theta_11d.shape"
   ]
  },
  {
   "cell_type": "markdown",
   "metadata": {},
   "source": [
    "#### Check the initial cost for 11-d"
   ]
  },
  {
   "cell_type": "code",
   "execution_count": 61,
   "metadata": {},
   "outputs": [
    {
     "data": {
      "text/plain": [
       "0.6931471805599454"
      ]
     },
     "execution_count": 61,
     "metadata": {},
     "output_type": "execute_result"
    }
   ],
   "source": [
    "cost_reg(theta_11d, X_11d, y_11d, alpha_11d)"
   ]
  },
  {
   "cell_type": "code",
   "execution_count": 77,
   "metadata": {},
   "outputs": [
    {
     "data": {
      "text/plain": [
       "(array([  0.46299414,  -1.75190458,  13.85774547,  -5.58210244,\n",
       "         12.26744383,  13.80034163,   4.41640165, -32.41080116,\n",
       "         -8.17110088, -37.77933088,   1.52446127]), 89, 1)"
      ]
     },
     "execution_count": 77,
     "metadata": {},
     "output_type": "execute_result"
    }
   ],
   "source": [
    "import scipy.optimize as opt\n",
    "\n",
    "result_11d = opt.fmin_tnc(func=cost_reg, x0=theta_11d, fprime=gradient_reg, args=(X_11d, y_11d, alpha_11d))\n",
    "result_11d"
   ]
  },
  {
   "cell_type": "code",
   "execution_count": 78,
   "metadata": {},
   "outputs": [
    {
     "name": "stdout",
     "output_type": "stream",
     "text": [
      "Total accuracy: 77.12%\n"
     ]
    }
   ],
   "source": [
    "predictions_11d = predict(result_11d[0], X_11d)\n",
    "\n",
    "r_or_w = []\n",
    "for (a, b) in zip(predictions_11d, y_11d):\n",
    "    if (a == 1 and b[0] == 1) or (a == 0 and b[0] == 0):\n",
    "        r_or_w.append(1)\n",
    "    else:\n",
    "        r_or_w.append(0)\n",
    "        \n",
    "accuracy = float(sum(r_or_w)) / len(r_or_w) * 100\n",
    "\n",
    "print('Total accuracy: {0:.2f}%'.format(accuracy))"
   ]
  },
  {
   "cell_type": "markdown",
   "metadata": {},
   "source": [
    "## References\n",
    "\n",
    "- [机器学习练习（三）——逻辑回归](https://blog.csdn.net/and_w/article/details/52836716)\n",
    "\n",
    "- [Logistic regression](https://en.wikipedia.org/wiki/Logistic_regression)\n",
    "\n",
    "- [Logistic Regression（逻辑回归）原理及公式推导](https://blog.csdn.net/programmer_wei/article/details/52072939)\n",
    "\n",
    "- [Binomial distribution](https://en.wikipedia.org/wiki/Binomial_distribution)\n",
    "\n",
    "- [Bernoulli distribution](https://en.wikipedia.org/wiki/Bernoulli_distribution)\n",
    "\n",
    "- [Joint probability distribution](https://en.wikipedia.org/wiki/Joint_probability_distribution)\n",
    "\n",
    "- [Norm (mathematics)](https://en.wikipedia.org/wiki/Norm_(mathematics))\n",
    "\n",
    "- [Matrix norm](https://en.wikipedia.org/wiki/Matrix_norm)\n",
    "\n",
    "- [机器学习中常常提到的正则化到底是什么意思？](https://www.zhihu.com/question/20924039)\n",
    "\n",
    "- [Taylor series](https://en.wikipedia.org/wiki/Taylor_series)"
   ]
  }
 ],
 "metadata": {
  "kernelspec": {
   "display_name": "Python 3",
   "language": "python",
   "name": "python3"
  },
  "language_info": {
   "codemirror_mode": {
    "name": "ipython",
    "version": 3
   },
   "file_extension": ".py",
   "mimetype": "text/x-python",
   "name": "python",
   "nbconvert_exporter": "python",
   "pygments_lexer": "ipython3",
   "version": "3.7.0"
  }
 },
 "nbformat": 4,
 "nbformat_minor": 2
}
