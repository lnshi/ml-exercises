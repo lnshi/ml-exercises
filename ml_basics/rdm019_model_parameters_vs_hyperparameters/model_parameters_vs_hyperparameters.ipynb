{
 "cells": [
  {
   "cell_type": "markdown",
   "metadata": {},
   "source": [
    "In machine learning, we use the term __hyperparameters__ to distinguish from standard model parameters;\n",
    "\n",
    "A machine learning model is the definition of a mathematical formula with a number of parameters that need to be __learned__ from the data. That is the crux of machine learning: fitting a model to the data, this is done via the __training__;\n",
    "\n",
    "However, there is another kind of parameters that cannot be directly learned from the regular training process. These parameters express __higher-level properties__ of the model such as its complexity or __how fast__ it should learn. They are called hyperparameters;\n",
    "\n",
    "Hyperparameters are usually fixed before the actual training process begins;\n",
    "\n",
    "Regarding how the hyperparameters are decided, generally speaking: it is done by setting different values for those hyperparameters, training different models, and then decide which ones work best by testing them;\n",
    "\n",
    "To summarize, hyperparameters:\n",
    "\n",
    "- Define higher level properties about the model such as complexity, learning rate;\n",
    "\n",
    "- Cannot be learned directly from the data in the training, need to be predefined;\n",
    "\n",
    "- Can be decided by setting different values, training different models, and choosing the values that works better;\n",
    "\n",
    "Some examples of hyperparameters:\n",
    "\n",
    "- Number of leaves or depth of a tree\n",
    "\n",
    "- Number of latent factors in a matrix factorization\n",
    "\n",
    "- Learning rate\n",
    "\n",
    "- Number of hidden layers in a deep neural network\n",
    "\n",
    "- Number of clusters in a k-means clustering\n",
    "\n",
    "Reference: [What are hyperparameters in machine learning?](https://www.quora.com/What-are-hyperparameters-in-machine-learning)"
   ]
  }
 ],
 "metadata": {
  "kernelspec": {
   "display_name": "Python 3",
   "language": "python",
   "name": "python3"
  },
  "language_info": {
   "codemirror_mode": {
    "name": "ipython",
    "version": 3
   },
   "file_extension": ".py",
   "mimetype": "text/x-python",
   "name": "python",
   "nbconvert_exporter": "python",
   "pygments_lexer": "ipython3",
   "version": "3.7.3"
  },
  "toc": {
   "base_numbering": 1,
   "nav_menu": {},
   "number_sections": true,
   "sideBar": true,
   "skip_h1_title": false,
   "title_cell": "Table of Contents",
   "title_sidebar": "Contents",
   "toc_cell": false,
   "toc_position": {},
   "toc_section_display": true,
   "toc_window_display": false
  }
 },
 "nbformat": 4,
 "nbformat_minor": 2
}
