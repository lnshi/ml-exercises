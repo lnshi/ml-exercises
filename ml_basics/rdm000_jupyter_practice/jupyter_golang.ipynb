{
 "cells": [
  {
   "cell_type": "code",
   "execution_count": 1,
   "metadata": {},
   "outputs": [
    {
     "name": "stdout",
     "output_type": "stream",
     "text": [
      "Hello Leonard Shi\n"
     ]
    }
   ],
   "source": [
    "import (\n",
    "    \"fmt\"\n",
    ")\n",
    "\n",
    "const myName = \"Leonard Shi\"\n",
    "\n",
    "func main() {\n",
    "    fmt.Println(fmt.Sprintf(\"Hello %s\", myName))\n",
    "}\n",
    "\n",
    "main()"
   ]
  },
  {
   "cell_type": "code",
   "execution_count": 2,
   "metadata": {},
   "outputs": [
    {
     "name": "stdout",
     "output_type": "stream",
     "text": [
      " 0 1 1 2 3 5 8 13 21 34 55 89 144 233 377 610 987\n",
      " 0 1 1 2 3 5 8 13 21 34 55 89 144 233 377 610 987\n",
      " 1597 2584 4181 6765 10946 17711 28657\n"
     ]
    }
   ],
   "source": [
    "// Fibonacci generator in go.\n",
    "\n",
    "import (\n",
    "    \"fmt\"\n",
    ")\n",
    "\n",
    "func fibGenerator() chan int {\n",
    "    ch := make(chan int)\n",
    "    \n",
    "    go func() {\n",
    "        for i, j := 0, 1; ; i, j = i+j, i {\n",
    "            ch <- i\n",
    "        }\n",
    "    }()\n",
    "    \n",
    "    return ch\n",
    "}\n",
    "\n",
    "func main() {\n",
    "    g0, g1 := fibGenerator(), fibGenerator()\n",
    "    \n",
    "    for n := 0; n < 17; n++ {\n",
    "        fmt.Print(\" \", <- g0)\n",
    "    }\n",
    "    fmt.Println()\n",
    "    \n",
    "    for n := 0; n < 17; n++ {\n",
    "        fmt.Print(\" \", <- g1)\n",
    "    }\n",
    "    fmt.Println()\n",
    "    \n",
    "    for n := 0; n < 7; n++ {\n",
    "        fmt.Print(\" \", <- g0)\n",
    "    }\n",
    "    fmt.Println()\n",
    "}\n",
    "\n",
    "main()"
   ]
  }
 ],
 "metadata": {
  "kernelspec": {
   "display_name": "Go",
   "language": "go",
   "name": "gophernotes"
  },
  "language_info": {
   "codemirror_mode": "",
   "file_extension": ".go",
   "mimetype": "",
   "name": "go",
   "nbconvert_exporter": "",
   "pygments_lexer": "",
   "version": "go1.10.3"
  }
 },
 "nbformat": 4,
 "nbformat_minor": 2
}
