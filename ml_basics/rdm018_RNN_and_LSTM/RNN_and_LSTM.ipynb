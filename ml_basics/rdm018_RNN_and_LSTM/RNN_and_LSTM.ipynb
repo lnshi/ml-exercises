{
 "cells": [
  {
   "cell_type": "markdown",
   "metadata": {},
   "source": [
    "## Find some awesome related to RNN/LSTM below\n",
    "\n",
    "[Recurrent Neural Networks by Example in Python](https://towardsdatascience.com/recurrent-neural-networks-by-example-in-python-ffd204f99470)\n",
    "\n",
    "- [Introduction: Recurrent Neural Network Quickstart](https://github.com/WillKoehrsen/recurrent-neural-networks/blob/master/notebooks/Quick%20Start%20to%20Recurrent%20Neural%20Networks.ipynb)\n",
    "    \n",
    "- [Introduction: Writing Patent Abstracts with a Recurrent Neural Network](https://github.com/WillKoehrsen/recurrent-neural-networks/blob/master/notebooks/Deep%20Dive%20into%20Recurrent%20Neural%20Networks.ipynb)\n",
    "    \n",
    "[LSTM Recurrent Neural Network Keras Example](https://towardsdatascience.com/machine-learning-recurrent-neural-networks-and-long-short-term-memory-lstm-python-keras-example-86001ceaaebc)\n",
    "\n",
    "Keep this post as a placeholder, when in future actually need to do a RNN/LSTM related work will come back to do the deep dive and example practice, but basically:\n",
    "\n",
    "> RNN: Recurrent means the output at the current time step becomes the input to the next time step. At each element of the sequence, the model considers not just the current input, but what it remembers about the preceding elements.\n",
    "\n",
    "![RNN cell](./rnn_cell.png)\n",
    "\n",
    "> Just keep in mind what the LSTM cell is meant to do: allow past information to be re-injected at a later time."
   ]
  }
 ],
 "metadata": {
  "kernelspec": {
   "display_name": "Python 3",
   "language": "python",
   "name": "python3"
  },
  "language_info": {
   "codemirror_mode": {
    "name": "ipython",
    "version": 3
   },
   "file_extension": ".py",
   "mimetype": "text/x-python",
   "name": "python",
   "nbconvert_exporter": "python",
   "pygments_lexer": "ipython3",
   "version": "3.7.3"
  },
  "toc": {
   "base_numbering": 1,
   "nav_menu": {},
   "number_sections": true,
   "sideBar": true,
   "skip_h1_title": false,
   "title_cell": "Table of Contents",
   "title_sidebar": "Contents",
   "toc_cell": false,
   "toc_position": {},
   "toc_section_display": true,
   "toc_window_display": true
  }
 },
 "nbformat": 4,
 "nbformat_minor": 2
}
