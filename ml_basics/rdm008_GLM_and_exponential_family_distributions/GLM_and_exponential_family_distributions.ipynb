{
 "cells": [
  {
   "cell_type": "markdown",
   "metadata": {},
   "source": [
    "# First\n",
    "\n",
    "[Linear regression](https://lnshi.github.io/ml-exercises/ml_basics_in_html/rdm001_multivariable_linear_regression_gradient_descent/multivariable_linear_regression_gradient_descent.html), [logistic regression](https://lnshi.github.io/ml-exercises/ml_basics_in_html/rdm007_logistic_regression%28binomial_regression%29_and_regularization/logistic_regression%28binomial_regression%29_and_regularization.html) and some others linear models like softmax regression etc. are all just specialized forms of [GLM (Generalized Linear Model)](https://en.wikipedia.org/wiki/Generalized_linear_model#Link_function).\n",
    "\n",
    "Usually when we build one model, we always firstly go to analyze which distribution does the target sample space subject to, for GLM we should look into [Exponential family](https://en.wikipedia.org/wiki/Exponential_family), then we convert that distribution's parameters to GLM's parameters, then we can proceed our solution with that specialized form of GLM, that is:\n",
    "\n",
    "<img src=\"./modeling.svg\">\n",
    "\n",
    "In [linear regression](https://lnshi.github.io/ml-exercises/ml_basics_in_html/rdm001_multivariable_linear_regression_gradient_descent/multivariable_linear_regression_gradient_descent.html) we assume: $f_X(x|\\theta) \\sim \\mathcal{N}(\\mu, \\sigma^2)$, and in [logistic regression](https://lnshi.github.io/ml-exercises/ml_basics_in_html/rdm007_logistic_regression%28binomial_regression%29_and_regularization/logistic_regression%28binomial_regression%29_and_regularization.html#How-to-estimate-the-$\\theta$:-MLE-(Maximum-Likelihood-Estimation)) we assume: $f_X(x|\\theta) \\sim Bernoulli(p)$.\n",
    "\n",
    "# Exponential family\n",
    "\n",
    "### [Members of exponential family distributions](https://en.wikipedia.org/wiki/Exponential_family#Examples_of_exponential_family_distributions)\n",
    "\n",
    "### Exponential family distributions can be expressed in a generic form as below:\n",
    "\n",
    "$$\n",
    "  f_X(x|\\theta) = h(x) exp\\big(\\eta(\\theta) \\cdot T(x) - A(\\theta)\\big)\n",
    "$$\n",
    "\n",
    "- $\\theta$ is natural parameter\n",
    "- $T(x)$ is [sufficient statistics](https://en.wikipedia.org/wiki/Sufficient_statistic)\n",
    "- $A(\\theta)$ is log-[partition function](https://en.wikipedia.org/wiki/Partition_function_(mathematics))\n",
    "\n",
    "That is: $h(x)$, $T(x)$ and $A(\\theta)$ determined a new distribution, the transformed parameter $\\eta = \\eta(\\theta)$ is this distribution's parameter.\n",
    "\n",
    "- If $\\eta(\\theta) = \\theta$ then the exponential family is said to be in [canonical form](https://en.wikipedia.org/wiki/Canonical_form);\n",
    "- The function $A(\\theta)$ is automatically determined once the other functions have been chosen:\n",
    "\n",
    "$$\n",
    "A(\\theta) = ln\\Bigg(\\int_x h(x) exp\\Big( \\eta(\\theta) \\cdot T(x) \\Big)dx \\Bigg)\n",
    "$$"
   ]
  },
  {
   "cell_type": "markdown",
   "metadata": {},
   "source": [
    "# References\n",
    "\n",
    "- [广义线性模型（Generalized Linear Model）](https://zhuanlan.zhihu.com/p/22876460)\n",
    "\n",
    "- [机器学习中的logistic regression的sigmoid函数如何解释？为啥要用它？](https://www.zhihu.com/question/23666587/answer/462453898)\n",
    "\n",
    "- [Generalized linear model](https://en.wikipedia.org/wiki/Generalized_linear_model#Link_function)\n",
    "\n",
    "- [Exponential family](https://en.wikipedia.org/wiki/Exponential_family)\n",
    "\n",
    "- [Sufficient statistics](https://en.wikipedia.org/wiki/Sufficient_statistic)\n",
    "\n",
    "- [Partition function (mathematics)](https://en.wikipedia.org/wiki/Partition_function_(mathematics))\n",
    "\n",
    "- [Canonical form](https://en.wikipedia.org/wiki/Canonical_form)\n",
    "\n",
    "- [Cumulant generating function](https://en.wikipedia.org/wiki/Cumulant_generating_function)"
   ]
  }
 ],
 "metadata": {
  "kernelspec": {
   "display_name": "Python 3",
   "language": "python",
   "name": "python3"
  },
  "language_info": {
   "codemirror_mode": {
    "name": "ipython",
    "version": 3
   },
   "file_extension": ".py",
   "mimetype": "text/x-python",
   "name": "python",
   "nbconvert_exporter": "python",
   "pygments_lexer": "ipython3",
   "version": "3.7.0"
  }
 },
 "nbformat": 4,
 "nbformat_minor": 2
}
