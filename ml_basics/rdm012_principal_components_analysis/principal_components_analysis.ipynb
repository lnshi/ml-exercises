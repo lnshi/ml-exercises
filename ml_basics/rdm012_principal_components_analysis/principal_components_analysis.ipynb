{
 "cells": [
  {
   "cell_type": "markdown",
   "metadata": {},
   "source": [
    "# PCA\n",
    "\n",
    "## What does PCA do?\n",
    "\n",
    "PCA uses an orthogonal transformation to covert a set of observations of possibly correlated variables/features into a set values of linearly uncorrelated variables called **principal components**.\n",
    "\n",
    "This transformation is defined in such a way that the first principal component has the largest possible **variance** (that is, accounts for as much of the variabilities in the data as possible), and each succeeding component in turn has the highest **variance** possible under the constraint that it is orthogonal to the preceding components.\n",
    "\n",
    "PCA is sensitive to the relative scaling of the original variables.\n",
    "\n",
    "## What are the application scenarios of PCA?\n",
    "\n",
    "1. Dimensionality reduction (but maintain the data' variabilities/skeletons as much as possible);\n",
    "\n",
    "2. Data redundancies elimination;\n",
    "\n",
    "3. Data noises cancellation;\n",
    "\n",
    "## PCA pseudo code\n",
    "\n",
    "1. Lets say we have $n$ observations with each of them has $m$ features:\n",
    "\n",
    "$$\n",
    "X = \\\n",
    "\\begin{pmatrix}\n",
    "  x_1^{(1)} & x_2^{(1)} & \\dots & x_m^{(1)} \\\\\n",
    "  x_1^{(2)} & x_2^{(2)} & \\dots & x_m^{(2)} \\\\\n",
    "  \\vdots & \\vdots & \\vdots & \\vdots \\\\\n",
    "  x_1^{(n)} & x_2^{(n)} & \\dots & x_m^{(n)}\n",
    "\\end{pmatrix}\n",
    "$$\n",
    "\n",
    "2. Proceed the mean normalization operation to each column of the $X$, that is: subtract the mean value of the column from each element of this column (so that for each column its mean value will be 0, this will benefit its variance calculation):\n",
    "\n",
    "$$\n",
    "X' = \\\n",
    "\\begin{pmatrix}\n",
    "  x_1^{(1)} - \\sum\\limits_{i=1}^n x_1^{(i)} \\Big/ n & x_2^{(1)} - \\sum\\limits_{i=1}^n x_2^{(i)} \\Big/ n & \\dots & x_m^{(1)} - \\sum\\limits_{i=1}^n x_m^{(i)} \\Big/ n \\\\\n",
    "  x_1^{(2)} - \\sum\\limits_{i=1}^n x_1^{(i)} \\Big/ n & x_2^{(2)} - \\sum\\limits_{i=1}^n x_2^{(i)} \\Big/ n & \\dots & x_m^{(2)} - \\sum\\limits_{i=1}^n x_m^{(i)} \\Big/ n \\\\\n",
    "  \\vdots & \\vdots & \\vdots & \\vdots \\\\\n",
    "  x_1^{(n)} - \\sum\\limits_{i=1}^n x_1^{(i)} \\Big/ n & x_2^{(n)} - \\sum\\limits_{i=1}^n x_2^{(i)} \\Big/ n & \\dots & x_m^{(n)} - \\sum\\limits_{i=1}^n x_m^{(i)} \\Big/ n\n",
    "\\end{pmatrix}\n",
    "$$\n",
    "\n",
    "3. Calculate the covariance matrix $C$ of $X'$:\n",
    "\n",
    "$$\n",
    "C = \\frac{1}{n} X'^T X'\n",
    "$$\n",
    "\n",
    "4. Calculate the covariance matrix $C$'s eigenvalues ant its corresponding eigenvectors;\n",
    "\n",
    "\n",
    "5. Sort the eigenvectors from top to bottom according to its corresponding eigenvalues from large to, and then take the first $k$ rows to construct a new matrix $P$;\n",
    "\n",
    "\n",
    "6. Then $Y=PX$ will be the transformation result of the original data $X$ in lower $k$-dimensional space;\n",
    "\n",
    "## PCA mathematical explanations\n",
    "\n",
    "PCA mathematical explanations can be found in this long image: [pca mathematical explanations](https://github.com/lnshi/ml-exercises/blob/master/ml_basics/rdm012_principal_components_analysis/pca_mathematical_explanation.png), original post can be found here: [PCA的数学原理(转)](https://zhuanlan.zhihu.com/p/21580949)."
   ]
  },
  {
   "cell_type": "markdown",
   "metadata": {},
   "source": [
    "# References\n",
    "\n",
    "- [PCA的数学原理(转)](https://zhuanlan.zhihu.com/p/21580949)\n",
    "\n",
    "- [PCA主成分分析学习总结](https://zhuanlan.zhihu.com/p/32412043)\n",
    "\n",
    "- [如何通俗易懂地解释「协方差」与「相关系数」的概念？](https://www.zhihu.com/question/20852004/answer/134902061)"
   ]
  }
 ],
 "metadata": {
  "kernelspec": {
   "display_name": "Python 3",
   "language": "python",
   "name": "python3"
  },
  "language_info": {
   "codemirror_mode": {
    "name": "ipython",
    "version": 3
   },
   "file_extension": ".py",
   "mimetype": "text/x-python",
   "name": "python",
   "nbconvert_exporter": "python",
   "pygments_lexer": "ipython3",
   "version": "3.7.3"
  },
  "toc": {
   "base_numbering": 1,
   "nav_menu": {},
   "number_sections": true,
   "sideBar": true,
   "skip_h1_title": false,
   "title_cell": "Table of Contents",
   "title_sidebar": "Contents",
   "toc_cell": false,
   "toc_position": {},
   "toc_section_display": true,
   "toc_window_display": true
  }
 },
 "nbformat": 4,
 "nbformat_minor": 2
}
